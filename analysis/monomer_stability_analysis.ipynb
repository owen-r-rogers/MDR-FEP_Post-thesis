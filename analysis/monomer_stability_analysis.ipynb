{
 "cells": [
  {
   "cell_type": "code",
   "id": "initial_id",
   "metadata": {
    "collapsed": true,
    "ExecuteTime": {
     "end_time": "2025-04-28T15:45:34.750359Z",
     "start_time": "2025-04-28T15:45:34.732357Z"
    }
   },
   "source": [
    "import numpy as np\n",
    "import pandas as pd\n",
    "import matplotlib.pyplot as plt\n",
    "import seaborn as sns\n",
    "import os"
   ],
   "outputs": [],
   "execution_count": 4
  },
  {
   "metadata": {
    "ExecuteTime": {
     "end_time": "2025-04-28T15:58:49.871704Z",
     "start_time": "2025-04-28T15:58:49.853530Z"
    }
   },
   "cell_type": "code",
   "source": "results_dir = '/Users/owenrogers/PycharmProjects/MDRFEP/data/grid_search_results'",
   "id": "23aaa1ced5279573",
   "outputs": [],
   "execution_count": 12
  },
  {
   "metadata": {
    "ExecuteTime": {
     "end_time": "2025-04-28T15:58:50.275184Z",
     "start_time": "2025-04-28T15:58:50.270663Z"
    }
   },
   "cell_type": "code",
   "source": "run_of_interest = 'softrep__min__5'",
   "id": "3870ebda377b1f77",
   "outputs": [],
   "execution_count": 13
  },
  {
   "metadata": {
    "ExecuteTime": {
     "end_time": "2025-04-28T15:58:50.698128Z",
     "start_time": "2025-04-28T15:58:50.694128Z"
    }
   },
   "cell_type": "code",
   "source": "mdrfep_output = os.path.join(results_dir, f'{run_of_interest}_mdrfep_output.sc')",
   "id": "afe143ebefeec16f",
   "outputs": [],
   "execution_count": 14
  },
  {
   "metadata": {
    "ExecuteTime": {
     "end_time": "2025-04-28T15:58:51.096888Z",
     "start_time": "2025-04-28T15:58:51.088749Z"
    }
   },
   "cell_type": "code",
   "source": "os.path.exists(mdrfep_output)",
   "id": "2096b51bee9d935f",
   "outputs": [
    {
     "data": {
      "text/plain": [
       "True"
      ]
     },
     "execution_count": 15,
     "metadata": {},
     "output_type": "execute_result"
    }
   ],
   "execution_count": 15
  },
  {
   "metadata": {
    "ExecuteTime": {
     "end_time": "2025-04-28T15:58:52.086327Z",
     "start_time": "2025-04-28T15:58:52.010523Z"
    }
   },
   "cell_type": "code",
   "source": "df = pd.read_csv(mdrfep_output)",
   "id": "f64ad7c2f5a73945",
   "outputs": [],
   "execution_count": 16
  },
  {
   "metadata": {
    "ExecuteTime": {
     "end_time": "2025-04-28T15:59:00.791106Z",
     "start_time": "2025-04-28T15:59:00.773550Z"
    }
   },
   "cell_type": "code",
   "source": "print(df['beta'].unique()[0])",
   "id": "304df99aab451205",
   "outputs": [
    {
     "name": "stdout",
     "output_type": "stream",
     "text": [
      "1e-09\n"
     ]
    }
   ],
   "execution_count": 19
  },
  {
   "metadata": {
    "ExecuteTime": {
     "end_time": "2025-04-28T16:05:12.194924Z",
     "start_time": "2025-04-28T16:05:12.170271Z"
    }
   },
   "cell_type": "code",
   "source": "print(df.columns)",
   "id": "5761ae92199c62c",
   "outputs": [
    {
     "name": "stdout",
     "output_type": "stream",
     "text": [
      "Index(['dimer_de', 'monomer_de', 'ssm_seqpos', 'ssm_letter', 'ssm_parent',\n",
      "       'native_aa', 'low_conf', 'avid_doesnt_agree', 'is_interface_core',\n",
      "       'is_interface_boundary', 'is_monomer_core', 'is_monomer_boundary',\n",
      "       'is_monomer_surface', 'delta_exp_ddg_lb', 'delta_exp_ddg_ub',\n",
      "       'delta_exp_ddg_center', 'delta_rosetta_lb', 'delta_rosetta_ub',\n",
      "       'parent_letter', 'is_loop', 'dimer_dg', 'monomer_dg', 'ddg', 'dg_fold',\n",
      "       'dg_fold_lb', 'dg_fold_ub', 'ddg_mdrfep_lb', 'ddg_mdrfep_ub',\n",
      "       'mdrfep_agrees', 'beta'],\n",
      "      dtype='object')\n"
     ]
    }
   ],
   "execution_count": 21
  },
  {
   "metadata": {},
   "cell_type": "code",
   "outputs": [],
   "execution_count": null,
   "source": "",
   "id": "498fafb02040f84e"
  },
  {
   "metadata": {},
   "cell_type": "code",
   "outputs": [],
   "execution_count": null,
   "source": "",
   "id": "5376ca0621991145"
  },
  {
   "metadata": {},
   "cell_type": "code",
   "outputs": [],
   "execution_count": null,
   "source": "",
   "id": "2243bfa342758d9"
  },
  {
   "metadata": {},
   "cell_type": "code",
   "outputs": [],
   "execution_count": null,
   "source": "",
   "id": "c56ab48c591327ae"
  },
  {
   "metadata": {},
   "cell_type": "code",
   "outputs": [],
   "execution_count": null,
   "source": "",
   "id": "886bec288c59d3bb"
  },
  {
   "metadata": {},
   "cell_type": "code",
   "outputs": [],
   "execution_count": null,
   "source": "",
   "id": "36048df00ddc0bca"
  },
  {
   "metadata": {},
   "cell_type": "code",
   "outputs": [],
   "execution_count": null,
   "source": "",
   "id": "bf371f4303408b14"
  },
  {
   "metadata": {},
   "cell_type": "code",
   "outputs": [],
   "execution_count": null,
   "source": "",
   "id": "ddfac36e22e6c23b"
  },
  {
   "metadata": {},
   "cell_type": "code",
   "outputs": [],
   "execution_count": null,
   "source": "",
   "id": "81f775a703b01f4e"
  },
  {
   "metadata": {},
   "cell_type": "code",
   "outputs": [],
   "execution_count": null,
   "source": "",
   "id": "a3f4a6f8e55fc510"
  },
  {
   "metadata": {},
   "cell_type": "code",
   "outputs": [],
   "execution_count": null,
   "source": "",
   "id": "ac28961e3b934f31"
  },
  {
   "metadata": {},
   "cell_type": "code",
   "outputs": [],
   "execution_count": null,
   "source": "",
   "id": "8fafd119b2a777aa"
  },
  {
   "metadata": {},
   "cell_type": "code",
   "outputs": [],
   "execution_count": null,
   "source": "",
   "id": "cf4a687e05e1e3b9"
  },
  {
   "metadata": {},
   "cell_type": "code",
   "outputs": [],
   "execution_count": null,
   "source": "",
   "id": "a5d8e7e38f974f3b"
  },
  {
   "metadata": {},
   "cell_type": "code",
   "outputs": [],
   "execution_count": null,
   "source": "",
   "id": "4622097448a34cbe"
  },
  {
   "metadata": {},
   "cell_type": "code",
   "outputs": [],
   "execution_count": null,
   "source": "",
   "id": "a4771db26907f30b"
  },
  {
   "metadata": {},
   "cell_type": "code",
   "outputs": [],
   "execution_count": null,
   "source": "",
   "id": "1b284cdefeb50e8d"
  },
  {
   "metadata": {},
   "cell_type": "code",
   "outputs": [],
   "execution_count": null,
   "source": "",
   "id": "6635b77bb9b1cf8c"
  },
  {
   "metadata": {},
   "cell_type": "code",
   "outputs": [],
   "execution_count": null,
   "source": "",
   "id": "993caa0abd4a6c38"
  },
  {
   "metadata": {},
   "cell_type": "code",
   "outputs": [],
   "execution_count": null,
   "source": "",
   "id": "132558288cbebc27"
  },
  {
   "metadata": {},
   "cell_type": "code",
   "outputs": [],
   "execution_count": null,
   "source": "",
   "id": "8fb2ccb6cda88555"
  },
  {
   "metadata": {},
   "cell_type": "code",
   "outputs": [],
   "execution_count": null,
   "source": "",
   "id": "60a8bbdb0d28658e"
  },
  {
   "metadata": {},
   "cell_type": "code",
   "outputs": [],
   "execution_count": null,
   "source": "",
   "id": "9e21a3612b8ece67"
  },
  {
   "metadata": {},
   "cell_type": "code",
   "outputs": [],
   "execution_count": null,
   "source": "",
   "id": "4f0354653e5961c7"
  },
  {
   "metadata": {},
   "cell_type": "code",
   "outputs": [],
   "execution_count": null,
   "source": "",
   "id": "be8827b1d718bfca"
  },
  {
   "metadata": {},
   "cell_type": "code",
   "outputs": [],
   "execution_count": null,
   "source": "",
   "id": "de3b6479d358e700"
  },
  {
   "metadata": {},
   "cell_type": "code",
   "outputs": [],
   "execution_count": null,
   "source": "",
   "id": "7d60d88b0bd11d0"
  },
  {
   "metadata": {},
   "cell_type": "code",
   "outputs": [],
   "execution_count": null,
   "source": "",
   "id": "68702117a67d144a"
  },
  {
   "metadata": {},
   "cell_type": "code",
   "outputs": [],
   "execution_count": null,
   "source": "",
   "id": "7e12033a533a3b79"
  },
  {
   "metadata": {},
   "cell_type": "code",
   "outputs": [],
   "execution_count": null,
   "source": "",
   "id": "834d6dd704e26187"
  },
  {
   "metadata": {},
   "cell_type": "code",
   "outputs": [],
   "execution_count": null,
   "source": "",
   "id": "f503ffe01f45690c"
  },
  {
   "metadata": {},
   "cell_type": "code",
   "outputs": [],
   "execution_count": null,
   "source": "",
   "id": "9a7cb70c035a9315"
  },
  {
   "metadata": {},
   "cell_type": "code",
   "outputs": [],
   "execution_count": null,
   "source": "",
   "id": "d5162529e63c1f0f"
  }
 ],
 "metadata": {
  "kernelspec": {
   "display_name": "Python 3",
   "language": "python",
   "name": "python3"
  },
  "language_info": {
   "codemirror_mode": {
    "name": "ipython",
    "version": 2
   },
   "file_extension": ".py",
   "mimetype": "text/x-python",
   "name": "python",
   "nbconvert_exporter": "python",
   "pygments_lexer": "ipython2",
   "version": "2.7.6"
  }
 },
 "nbformat": 4,
 "nbformat_minor": 5
}
