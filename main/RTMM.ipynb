{
 "cells": [
  {
   "metadata": {
    "ExecuteTime": {
     "end_time": "2025-02-06T15:00:50.148811Z",
     "start_time": "2025-02-06T15:00:50.124315Z"
    }
   },
   "cell_type": "code",
   "source": "from mdr_RTMM import *",
   "id": "6e76a69c92b2073c",
   "outputs": [],
   "execution_count": 69
  },
  {
   "metadata": {
    "ExecuteTime": {
     "end_time": "2025-02-06T15:00:50.813916Z",
     "start_time": "2025-02-06T15:00:50.769288Z"
    }
   },
   "cell_type": "code",
   "source": "init()",
   "id": "5fbf5e32a39d4fce",
   "outputs": [
    {
     "name": "stdout",
     "output_type": "stream",
     "text": [
      "┌──────────────────────────────────────────────────────────────────────────────┐\n",
      "│                                 PyRosetta-4                                  │\n",
      "│              Created in JHU by Sergey Lyskov and PyRosetta Team              │\n",
      "│              (C) Copyright Rosetta Commons Member Institutions               │\n",
      "│                                                                              │\n",
      "│ NOTE: USE OF PyRosetta FOR COMMERCIAL PURPOSES REQUIRE PURCHASE OF A LICENSE │\n",
      "│         See LICENSE.PyRosetta.md or email license@uw.edu for details         │\n",
      "└──────────────────────────────────────────────────────────────────────────────┘\n",
      "PyRosetta-4 2024 [Rosetta PyRosetta4.conda.m1.cxx11thread.serialization.python312.Release 2024.39+release.59628fbc5bc09f1221e1642f1f8d157ce49b1410 2024-09-23T07:49:48] retrieved from: http://www.pyrosetta.org\n",
      "core.init: Checking for fconfig files in pwd and ./rosetta/flags\n",
      "core.init: Rosetta version: PyRosetta4.conda.m1.cxx11thread.serialization.python312.Release r387 2024.39+release.59628fbc5b 59628fbc5bc09f1221e1642f1f8d157ce49b1410 http://www.pyrosetta.org 2024-09-23T07:49:48\n",
      "core.init: Rosetta extras: [cxx11thread, serialization]\n",
      "core.init: command: PyRosetta -ex1 -ex2aro -database /Users/owenrogers/anaconda3/envs/pyrosetta/lib/python3.12/site-packages/pyrosetta/database\n",
      "basic.random.init_random_generator: 'RNG device' seed mode, using '/dev/urandom', seed=-1242114541 seed_offset=0 real_seed=-1242114541 thread_index=0\n",
      "basic.random.init_random_generator: RandomGenerator:init: Normal mode, seed=-1242114541 RG_type=mt19937\n"
     ]
    }
   ],
   "execution_count": 70
  },
  {
   "metadata": {
    "ExecuteTime": {
     "end_time": "2025-02-06T15:00:52.287233Z",
     "start_time": "2025-02-06T15:00:52.276442Z"
    }
   },
   "cell_type": "code",
   "source": [
    "def rotamer_trials_mm(pose, seqpos, mutation, score_function, seqpos_resfile, minimize):\n",
    "    \"\"\"\n",
    "    Identical to pack_rotamers() function but uses a different Mover.\n",
    "    \"\"\"\n",
    "    \n",
    "    # Clone the WT and MUT poses.\n",
    "    wt_pose = pose.clone()\n",
    "    mut_pose = pose.clone()\n",
    "    \n",
    "    print(f'Processing {seqpos_resfile} for position {seqpos}', flush=True)\n",
    "    print(f'Native structure score: {score_pose(wt_pose, score_function)}', flush=True)\n",
    "    \n",
    "    # initialize TaskFactory\n",
    "    tf = TaskFactory()\n",
    "    tf.push_back(operation.InitializeFromCommandline())\n",
    "    tf.push_back(operation.RestrictToRepacking())\n",
    "    tf.push_back(operation.ExtraRotamersGeneric())\n",
    "    tf.push_back(operation.NoRepackDisulfides())\n",
    "    tf.push_back(operation.UseMultiCoolAnnealer(states=10))\n",
    "    \n",
    "    # read resfile\n",
    "    parse_rf = operation.ReadResfile(seqpos_resfile)\n",
    "    tf.push_back(parse_rf)\n",
    "    \n",
    "    # create a packer task\n",
    "    wt_packer_task = tf.create_task_and_apply_taskoperations(wt_pose)\n",
    "    \n",
    "    # create and apply a mover\n",
    "    wt_mover = pack_min.RotamerTrialsMinMover(score_function, wt_packer_task)\n",
    "    wt_mover.apply(wt_pose)\n",
    "    \n",
    "    print(wt_mover.info(), flush=True)\n",
    "    print(f'WT score after packing: {score_pose(wt_pose, score_function)}', flush=True)\n",
    "    \n",
    "    # Optionally minimize\n",
    "    if minimize:\n",
    "        minimize_sidechains(wt_pose, score_function)\n",
    "        print(f'WT score after minimization: {score_pose(wt_pose, score_function)}', flush=True)\n",
    "        \n",
    "    # score WT\n",
    "    score_wt = score_pose(wt_pose, score_function)\n",
    "    \n",
    "    # Repeat process for the mutant\n",
    "    mutate_residue(mut_pose, seqpos, mutation)\n",
    "    \n",
    "    # create packer task and apply it to the MUT pose.\n",
    "    mut_packer_task = tf.create_task_and_apply_taskoperations(mut_pose)\n",
    "    mut_mover = pack_min.RotamerTrialsMinMover(score_function, mut_packer_task)\n",
    "    mut_mover.apply(mut_pose)\n",
    "\n",
    "    print(mut_mover.info(), flush=True)\n",
    "    print(f'MUT score after packing: {score_pose(mut_pose, score_function)}', flush=True)\n",
    "    \n",
    "    # Optionally minimize\n",
    "    if minimize:\n",
    "        minimize_sidechains(mut_pose, score_function)\n",
    "        print(f'MUT score after minimization: {score_pose(mut_pose, score_function)}', flush=True)\n",
    "        \n",
    "    # score the MUT\n",
    "    score_mut = score_pose(mut_pose, score_function)\n",
    "    \n",
    "    # Calculate the dE\n",
    "    delta_energy = score_mut - score_wt\n",
    "    \n",
    "    return delta_energy"
   ],
   "id": "8729775cc1b107f6",
   "outputs": [],
   "execution_count": 71
  },
  {
   "metadata": {
    "ExecuteTime": {
     "end_time": "2025-02-06T15:00:53.291197Z",
     "start_time": "2025-02-06T15:00:53.288194Z"
    }
   },
   "cell_type": "code",
   "source": [
    "# setup MDR as usual\n",
    "\n",
    "environ['PDB_DIR'] = './RTMM_input'\n",
    "environ['RF_DIR'] = './RTMM_resfiles'"
   ],
   "id": "139014020d61ff74",
   "outputs": [],
   "execution_count": 72
  },
  {
   "metadata": {
    "ExecuteTime": {
     "end_time": "2025-02-06T15:00:54.036548Z",
     "start_time": "2025-02-06T15:00:54.030377Z"
    }
   },
   "cell_type": "code",
   "source": [
    "pdb_house = environ.get('PDB_DIR')\n",
    "resfile_house = environ.get('RF_DIR')"
   ],
   "id": "c492cdd55ed1bd92",
   "outputs": [],
   "execution_count": 73
  },
  {
   "metadata": {
    "ExecuteTime": {
     "end_time": "2025-02-06T15:00:54.407450Z",
     "start_time": "2025-02-06T15:00:54.403607Z"
    }
   },
   "cell_type": "code",
   "source": "chain_to_mutate = 'A'",
   "id": "2b6714c8ddc9e3e4",
   "outputs": [],
   "execution_count": 74
  },
  {
   "metadata": {
    "ExecuteTime": {
     "end_time": "2025-02-06T15:00:54.695488Z",
     "start_time": "2025-02-06T15:00:54.692084Z"
    }
   },
   "cell_type": "code",
   "source": "ref_pdb = path.join(pdb_house, '1QYS.pdb')",
   "id": "4d87145cf830d657",
   "outputs": [],
   "execution_count": 75
  },
  {
   "metadata": {
    "ExecuteTime": {
     "end_time": "2025-02-06T15:00:54.848823Z",
     "start_time": "2025-02-06T15:00:54.844410Z"
    }
   },
   "cell_type": "code",
   "source": "ref_string = parse_pdb(ref_pdb)",
   "id": "c6176fddfe7fcad8",
   "outputs": [],
   "execution_count": 76
  },
  {
   "metadata": {
    "ExecuteTime": {
     "end_time": "2025-02-06T15:00:55.147518Z",
     "start_time": "2025-02-06T15:00:55.002146Z"
    }
   },
   "cell_type": "code",
   "source": "ref_pose = string_to_pose(ref_string)",
   "id": "14ed9b105e1a3707",
   "outputs": [
    {
     "name": "stdout",
     "output_type": "stream",
     "text": [
      "core.io.pose_from_sfr.PoseFromSFRBuilder: Reading MSE as MET!\n",
      "core.io.pose_from_sfr.PoseFromSFRBuilder: Reading MSE as MET!\n",
      "core.io.pose_from_sfr.PoseFromSFRBuilder: Reading MSE as MET!\n",
      "core.io.pose_from_sfr.PoseFromSFRBuilder: Reading MSE as MET!\n",
      "core.io.pose_from_sfr.PoseFromSFRBuilder: Reading MSE as MET!\n",
      "core.io.pose_from_sfr.PoseFromSFRBuilder: Reading MSE as MET!\n",
      "core.io.pose_from_sfr.PoseFromSFRBuilder: Reading MSE as MET!\n",
      "core.io.pose_from_sfr.PoseFromSFRBuilder: Reading Selenium SE from MSE as SD from MET\n",
      "core.io.pose_from_sfr.PoseFromSFRBuilder: Reading MSE as MET!\n",
      "core.io.pose_from_sfr.PoseFromSFRBuilder: Adding undetected upper terminus type to residue 92,   94 A\n",
      "core.conformation.Conformation: [ WARNING ] missing heavyatom:  CG  on residue LYS 13\n",
      "core.conformation.Conformation: [ WARNING ] missing heavyatom:  CD  on residue LYS 13\n",
      "core.conformation.Conformation: [ WARNING ] missing heavyatom:  CE  on residue LYS 13\n",
      "core.conformation.Conformation: [ WARNING ] missing heavyatom:  NZ  on residue LYS 13\n",
      "core.conformation.Conformation: [ WARNING ] missing heavyatom:  CG  on residue PHE 15\n",
      "core.conformation.Conformation: [ WARNING ] missing heavyatom:  CD1 on residue PHE 15\n",
      "core.conformation.Conformation: [ WARNING ] missing heavyatom:  CD2 on residue PHE 15\n",
      "core.conformation.Conformation: [ WARNING ] missing heavyatom:  CE1 on residue PHE 15\n",
      "core.conformation.Conformation: [ WARNING ] missing heavyatom:  CE2 on residue PHE 15\n",
      "core.conformation.Conformation: [ WARNING ] missing heavyatom:  CZ  on residue PHE 15\n",
      "core.conformation.Conformation: [ WARNING ] missing heavyatom:  OG  on residue SER 25\n",
      "core.conformation.Conformation: [ WARNING ] missing heavyatom:  CG  on residue GLN 28\n",
      "core.conformation.Conformation: [ WARNING ] missing heavyatom:  CD  on residue GLN 28\n",
      "core.conformation.Conformation: [ WARNING ] missing heavyatom:  OE1 on residue GLN 28\n",
      "core.conformation.Conformation: [ WARNING ] missing heavyatom:  NE2 on residue GLN 28\n",
      "core.conformation.Conformation: [ WARNING ] missing heavyatom:  CG  on residue LYS 29\n",
      "core.conformation.Conformation: [ WARNING ] missing heavyatom:  CD  on residue LYS 29\n",
      "core.conformation.Conformation: [ WARNING ] missing heavyatom:  CE  on residue LYS 29\n",
      "core.conformation.Conformation: [ WARNING ] missing heavyatom:  NZ  on residue LYS 29\n",
      "core.conformation.Conformation: [ WARNING ] missing heavyatom:  CG  on residue ASN 32\n",
      "core.conformation.Conformation: [ WARNING ] missing heavyatom:  OD1 on residue ASN 32\n",
      "core.conformation.Conformation: [ WARNING ] missing heavyatom:  ND2 on residue ASN 32\n",
      "core.conformation.Conformation: [ WARNING ] missing heavyatom:  CG  on residue LEU 34\n",
      "core.conformation.Conformation: [ WARNING ] missing heavyatom:  CD1 on residue LEU 34\n",
      "core.conformation.Conformation: [ WARNING ] missing heavyatom:  CD2 on residue LEU 34\n",
      "core.conformation.Conformation: [ WARNING ] missing heavyatom:  CG  on residue LYS 44\n",
      "core.conformation.Conformation: [ WARNING ] missing heavyatom:  CD  on residue LYS 44\n",
      "core.conformation.Conformation: [ WARNING ] missing heavyatom:  CE  on residue LYS 44\n",
      "core.conformation.Conformation: [ WARNING ] missing heavyatom:  NZ  on residue LYS 44\n",
      "core.conformation.Conformation: [ WARNING ] missing heavyatom:  CG  on residue ARG 45\n",
      "core.conformation.Conformation: [ WARNING ] missing heavyatom:  CD  on residue ARG 45\n",
      "core.conformation.Conformation: [ WARNING ] missing heavyatom:  NE  on residue ARG 45\n",
      "core.conformation.Conformation: [ WARNING ] missing heavyatom:  CZ  on residue ARG 45\n",
      "core.conformation.Conformation: [ WARNING ] missing heavyatom:  NH1 on residue ARG 45\n",
      "core.conformation.Conformation: [ WARNING ] missing heavyatom:  NH2 on residue ARG 45\n",
      "core.conformation.Conformation: [ WARNING ] missing heavyatom:  CG  on residue ARG 53\n",
      "core.conformation.Conformation: [ WARNING ] missing heavyatom:  CD  on residue ARG 53\n",
      "core.conformation.Conformation: [ WARNING ] missing heavyatom:  NE  on residue ARG 53\n",
      "core.conformation.Conformation: [ WARNING ] missing heavyatom:  CZ  on residue ARG 53\n",
      "core.conformation.Conformation: [ WARNING ] missing heavyatom:  NH1 on residue ARG 53\n",
      "core.conformation.Conformation: [ WARNING ] missing heavyatom:  NH2 on residue ARG 53\n",
      "core.conformation.Conformation: [ WARNING ] missing heavyatom:  CG  on residue LYS 60\n",
      "core.conformation.Conformation: [ WARNING ] missing heavyatom:  CD  on residue LYS 60\n",
      "core.conformation.Conformation: [ WARNING ] missing heavyatom:  CE  on residue LYS 60\n",
      "core.conformation.Conformation: [ WARNING ] missing heavyatom:  NZ  on residue LYS 60\n",
      "core.conformation.Conformation: [ WARNING ] missing heavyatom:  CG  on residue GLU 71\n",
      "core.conformation.Conformation: [ WARNING ] missing heavyatom:  CD  on residue GLU 71\n",
      "core.conformation.Conformation: [ WARNING ] missing heavyatom:  OE1 on residue GLU 71\n",
      "core.conformation.Conformation: [ WARNING ] missing heavyatom:  OE2 on residue GLU 71\n",
      "core.conformation.Conformation: [ WARNING ] missing heavyatom:  OXT on residue LEU:CtermProteinFull 92\n",
      "core.pack.pack_missing_sidechains: packing residue number 13 because of missing atom number 6 atom name  CG\n",
      "core.pack.pack_missing_sidechains: packing residue number 15 because of missing atom number 6 atom name  CG\n",
      "core.pack.pack_missing_sidechains: packing residue number 25 because of missing atom number 6 atom name  OG\n",
      "core.pack.pack_missing_sidechains: packing residue number 28 because of missing atom number 6 atom name  CG\n",
      "core.pack.pack_missing_sidechains: packing residue number 29 because of missing atom number 6 atom name  CG\n",
      "core.pack.pack_missing_sidechains: packing residue number 32 because of missing atom number 6 atom name  CG\n",
      "core.pack.pack_missing_sidechains: packing residue number 34 because of missing atom number 6 atom name  CG\n",
      "core.pack.pack_missing_sidechains: packing residue number 44 because of missing atom number 6 atom name  CG\n",
      "core.pack.pack_missing_sidechains: packing residue number 45 because of missing atom number 6 atom name  CG\n",
      "core.pack.pack_missing_sidechains: packing residue number 53 because of missing atom number 6 atom name  CG\n",
      "core.pack.pack_missing_sidechains: packing residue number 60 because of missing atom number 6 atom name  CG\n",
      "core.pack.pack_missing_sidechains: packing residue number 71 because of missing atom number 6 atom name  CG\n",
      "core.pack.task: Packer task: initialize from command line()\n",
      "core.scoring.ScoreFunctionFactory: SCOREFUNCTION: ref2015\n",
      "core.pack.pack_rotamers: built 185 rotamers at 12 positions.\n",
      "core.pack.pack_rotamers: Requesting all available threads for interaction graph computation.\n",
      "core.pack.interaction_graph.interaction_graph_factory: Instantiating DensePDInteractionGraph\n",
      "core.pack.rotamer_set.RotamerSets: Completed interaction graph pre-calculation in 1 available threads (1 had been requested).\n"
     ]
    }
   ],
   "execution_count": 77
  },
  {
   "metadata": {
    "ExecuteTime": {
     "end_time": "2025-02-06T15:00:55.183221Z",
     "start_time": "2025-02-06T15:00:55.174917Z"
    }
   },
   "cell_type": "code",
   "source": [
    "# proceed doing just pack_rotamers function (equivalent)\n",
    "\n",
    "ssm_mutations = create_ssm_dict(ref_pose, chain_to_mutate)"
   ],
   "id": "d37faa61d49c562c",
   "outputs": [],
   "execution_count": 78
  },
  {
   "metadata": {
    "ExecuteTime": {
     "end_time": "2025-02-06T15:00:55.897971Z",
     "start_time": "2025-02-06T15:00:55.872871Z"
    }
   },
   "cell_type": "code",
   "source": "print(ref_pose)",
   "id": "1dd1532ae89d306f",
   "outputs": [
    {
     "name": "stdout",
     "output_type": "stream",
     "text": [
      "PDB file name: \n",
      "Total residues: 92\n",
      "Sequence: DIQVQVNIDDNGKNFDYTYTVTTESELQKVLNELMDYIKKQGAKRVRISITARTKKEAEKFAAILIKVFAELGYNDINVTFDGDTVTVEGQL\n",
      "Fold tree:\n",
      "FOLD_TREE  EDGE 1 92 -1 \n"
     ]
    }
   ],
   "execution_count": 79
  },
  {
   "metadata": {
    "ExecuteTime": {
     "end_time": "2025-02-06T15:00:58.442599Z",
     "start_time": "2025-02-06T15:00:56.390130Z"
    }
   },
   "cell_type": "code",
   "source": [
    "# carry out packing function using PackRotamersMover and compare to RotamerTrialsMinMover\n",
    "\n",
    "seqpos = 91\n",
    "mutation = 'D'\n",
    "minimize = False\n",
    "\n",
    "de_prm = pack_rotamers(ref_pose, seqpos, mutation, score_function=pyrosetta.rosetta.core.scoring.get_score_function(is_fullatom=True), seqpos_resfile=path.join(resfile_house, f'{seqpos}.resfile'), minimize=minimize)\n",
    "\n",
    "\n",
    "de_rtmm = rotamer_trials_mm(ref_pose, seqpos, mutation, score_function=pyrosetta.rosetta.core.scoring.get_score_function(is_fullatom=True), seqpos_resfile=path.join(resfile_house, f'{seqpos}.resfile'), minimize=minimize)"
   ],
   "id": "97e497215f6baf17",
   "outputs": [
    {
     "name": "stdout",
     "output_type": "stream",
     "text": [
      "core.scoring.ScoreFunctionFactory: SCOREFUNCTION: ref2015\n",
      "Processing ./RTMM_resfiles/91.resfile for position 91\n",
      "Native structure score: 206.2147741464288\n",
      "core.pack.task: Packer task: initialize from command line()\n",
      "core.pack.pack_rotamers: built 41 rotamers at 3 positions.\n",
      "core.pack.pack_rotamers: Requesting all available threads for interaction graph computation.\n",
      "core.pack.interaction_graph.interaction_graph_factory: Instantiating DensePDInteractionGraph\n",
      "core.pack.rotamer_set.RotamerSets: Completed interaction graph pre-calculation in 1 available threads (1 had been requested).\n",
      "std_list[REMARK PackingRes, 76 A, 90 A, 91 A, REMARK DesignRes]\n",
      "WT score after packing: 198.05363767627762\n",
      "core.scoring.ScoreFunctionFactory: SCOREFUNCTION: ref2015\n",
      "core.pack.task: Packer task: initialize from command line()\n",
      "core.pack.pack_rotamers: built 7 rotamers at 1 positions.\n",
      "core.pack.pack_rotamers: Requesting all available threads for interaction graph computation.\n",
      "core.pack.interaction_graph.interaction_graph_factory: Instantiating PDInteractionGraph\n",
      "core.pack.rotamer_set.RotamerSets: Completed interaction graph pre-calculation in 1 available threads (1 had been requested).\n",
      "core.pack.task: Packer task: initialize from command line()\n",
      "core.pack.pack_rotamers: built 41 rotamers at 3 positions.\n",
      "core.pack.pack_rotamers: Requesting all available threads for interaction graph computation.\n",
      "core.pack.interaction_graph.interaction_graph_factory: Instantiating DensePDInteractionGraph\n",
      "core.pack.rotamer_set.RotamerSets: Completed interaction graph pre-calculation in 1 available threads (1 had been requested).\n",
      "std_list[REMARK PackingRes, 76 A, 90 A, 91 A, REMARK DesignRes]\n",
      "MUT score after packing: 197.71232961187388\n",
      "NUMBER OF ITERATIONS USED FOR REPACKING: 50\n",
      "core.scoring.ScoreFunctionFactory: SCOREFUNCTION: ref2015\n",
      "Processing ./RTMM_resfiles/91.resfile for position 91\n",
      "Native structure score: 206.2147741464288\n",
      "core.pack.task: Packer task: initialize from command line()\n",
      "std_list[]\n",
      "WT score after packing: 197.21392579975853\n",
      "core.scoring.ScoreFunctionFactory: SCOREFUNCTION: ref2015\n",
      "core.pack.task: Packer task: initialize from command line()\n",
      "core.pack.pack_rotamers: built 7 rotamers at 1 positions.\n",
      "core.pack.pack_rotamers: Requesting all available threads for interaction graph computation.\n",
      "core.pack.interaction_graph.interaction_graph_factory: Instantiating PDInteractionGraph\n",
      "core.pack.rotamer_set.RotamerSets: Completed interaction graph pre-calculation in 1 available threads (1 had been requested).\n",
      "core.pack.task: Packer task: initialize from command line()\n",
      "std_list[]\n",
      "MUT score after packing: 196.82320960437664\n"
     ]
    }
   ],
   "execution_count": 80
  },
  {
   "metadata": {
    "ExecuteTime": {
     "end_time": "2025-02-06T15:00:58.758385Z",
     "start_time": "2025-02-06T15:00:58.753806Z"
    }
   },
   "cell_type": "code",
   "source": [
    "print(f'∆E with PackRotamerMover: {de_prm}')\n",
    "print(f'∆E with PackRotamerMinMover: {de_rtmm}')"
   ],
   "id": "d341c7661dd486b8",
   "outputs": [
    {
     "name": "stdout",
     "output_type": "stream",
     "text": [
      "∆E with PackRotamerMover: -0.3413080644037336\n",
      "∆E with PackRotamerMinMover: -0.3907161953818843\n"
     ]
    }
   ],
   "execution_count": 81
  },
  {
   "metadata": {},
   "cell_type": "code",
   "outputs": [],
   "execution_count": null,
   "source": "",
   "id": "30c85220021a5bf2"
  }
 ],
 "metadata": {
  "kernelspec": {
   "display_name": "Python 3",
   "language": "python",
   "name": "python3"
  },
  "language_info": {
   "codemirror_mode": {
    "name": "ipython",
    "version": 2
   },
   "file_extension": ".py",
   "mimetype": "text/x-python",
   "name": "python",
   "nbconvert_exporter": "python",
   "pygments_lexer": "ipython2",
   "version": "2.7.6"
  }
 },
 "nbformat": 4,
 "nbformat_minor": 5
}
