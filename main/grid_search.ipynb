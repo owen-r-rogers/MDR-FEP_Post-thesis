{
 "cells": [
  {
   "metadata": {
    "ExecuteTime": {
     "end_time": "2025-04-27T23:31:14.833537Z",
     "start_time": "2025-04-27T23:31:14.790799Z"
    }
   },
   "cell_type": "code",
   "source": "from mdrfep_utils.fep import *",
   "id": "7c5e64de1b26ab5a",
   "outputs": [],
   "execution_count": 13
  },
  {
   "metadata": {
    "ExecuteTime": {
     "end_time": "2025-04-27T23:31:15.209391Z",
     "start_time": "2025-04-27T23:31:15.205217Z"
    }
   },
   "cell_type": "code",
   "source": "affinity_estimate = '/Users/owenrogers/PycharmProjects/MDRFEP/data/ssm_correlation_for_plotting.sc'",
   "id": "9df5328855efda",
   "outputs": [],
   "execution_count": 14
  },
  {
   "metadata": {
    "ExecuteTime": {
     "end_time": "2025-04-27T23:31:16.048754Z",
     "start_time": "2025-04-27T23:31:16.042118Z"
    }
   },
   "cell_type": "code",
   "source": [
    "scorefxns = ['hardrep', 'softrep']\n",
    "minimizations = ['min', 'nomin']\n",
    "repacking_radii = [5, 15]"
   ],
   "id": "b316528e7e40c266",
   "outputs": [],
   "execution_count": 15
  },
  {
   "metadata": {
    "ExecuteTime": {
     "end_time": "2025-04-27T23:31:16.319677Z",
     "start_time": "2025-04-27T23:31:16.312351Z"
    }
   },
   "cell_type": "code",
   "source": [
    "runs = []\n",
    "\n",
    "for scorefxn in scorefxns:\n",
    "    for mini in minimizations:\n",
    "        for rr in repacking_radii:\n",
    "            run = f'{scorefxn}__{mini}__{rr}'\n",
    "            runs.append(run)"
   ],
   "id": "51274f14b48a4657",
   "outputs": [],
   "execution_count": 16
  },
  {
   "metadata": {
    "ExecuteTime": {
     "end_time": "2025-04-27T23:34:33.611042Z",
     "start_time": "2025-04-27T23:34:33.587300Z"
    }
   },
   "cell_type": "code",
   "source": [
    "# put your run of interest in here.\n",
    "# the format must be:\n",
    "'''\n",
    "[hardrep or softrep]__[nomin or min]__[5 or 15]\n",
    "\n",
    "'''\n",
    "\n",
    "run_of_interest = 'hardrep__min__5'\n",
    "\n",
    "# make sure that what you requested exists\n",
    "assert os.path.exists(f'/Users/owenrogers/PycharmProjects/MDRFEP/data/results/all_proteins/{run_of_interest}'), 'The directory for this run does not exist'\n",
    "\n",
    "# make sure that you have enough files in there\n",
    "assert len(os.listdir(f'/Users/owenrogers/PycharmProjects/MDRFEP/data/results/all_proteins/{run_of_interest}')) == 10, 'You dont have data for all of the proteins in this run'\n",
    "\n",
    "files = os.listdir(f'/Users/owenrogers/PycharmProjects/MDRFEP/data/results/all_proteins/{run_of_interest}')\n",
    "\n",
    "for file in files:\n",
    "    protein = file.split('__')[0]\n",
    "    assert protein in protein_list, 'You dont have the protein you are looking for'"
   ],
   "id": "850769e5a53645b",
   "outputs": [],
   "execution_count": 34
  },
  {
   "metadata": {
    "ExecuteTime": {
     "end_time": "2025-04-27T23:34:34.912029Z",
     "start_time": "2025-04-27T23:34:33.959203Z"
    }
   },
   "cell_type": "code",
   "source": [
    "all_data = []\n",
    "\n",
    "scorefxn = run_of_interest.split('__')[0]\n",
    "minimizations = run_of_interest.split('__')[1]\n",
    "repacking_radius = run_of_interest.split('__')[2]\n",
    "\n",
    "for protein in protein_list:\n",
    "        \n",
    "        assert os.path.exists(f'/Users/owenrogers/PycharmProjects/MDRFEP/data/results/all_proteins/{run_of_interest}/{protein}__{scorefxn}__{minimizations}__{repacking_radius}__dimer.npz'), f'{protein}__{scorefxn}__{minimizations}__{repacking_radius}__dimer.npz does not exist'\n",
    "            \n",
    "        assert os.path.exists(f'/Users/owenrogers/PycharmProjects/MDRFEP/data/results/all_proteins/{run_of_interest}/{protein}__{scorefxn}__{minimizations}__{repacking_radius}__monomer.npz'), f'{protein}__{scorefxn}__{minimizations}__{repacking_radius}__monomer.npz does not exist'\n",
    "            \n",
    "        rosetta_df = parse_rosetta_data(f'/Users/owenrogers/PycharmProjects/MDRFEP/data/results/all_proteins/{run_of_interest}/{protein}__{scorefxn}__{minimizations}__{repacking_radius}__dimer.npz', f'/Users/owenrogers/PycharmProjects/MDRFEP/data/results/all_proteins/{run_of_interest}/{protein}__{scorefxn}__{minimizations}__{repacking_radius}__monomer.npz', protein)\n",
    "            \n",
    "        all_data.append(rosetta_df)"
   ],
   "id": "ca3d3c97e861cda6",
   "outputs": [
    {
     "name": "stdout",
     "output_type": "stream",
     "text": [
      "Processing files for bcov_v3_r3_ems_3hC_436_0002_000000017_0001_0001_47_64_H_.._ems_p1-15H-GBL-16H-GABBL-16H_0382_0001_0001_0001_0001_0001_0001_0001_0001:\n",
      "Dimer - /Users/owenrogers/PycharmProjects/MDRFEP/data/results/all_proteins/hardrep__min__5/bcov_v3_r3_ems_3hC_436_0002_000000017_0001_0001_47_64_H_.._ems_p1-15H-GBL-16H-GABBL-16H_0382_0001_0001_0001_0001_0001_0001_0001_0001__hardrep__min__5__dimer.npz\n",
      "Monomer - /Users/owenrogers/PycharmProjects/MDRFEP/data/results/all_proteins/hardrep__min__5/bcov_v3_r3_ems_3hC_436_0002_000000017_0001_0001_47_64_H_.._ems_p1-15H-GBL-16H-GABBL-16H_0382_0001_0001_0001_0001_0001_0001_0001_0001__hardrep__min__5__monomer.npz\n",
      "Processing files for Motif1400_ems_3hM_482_0001_7396_0001:\n",
      "Dimer - /Users/owenrogers/PycharmProjects/MDRFEP/data/results/all_proteins/hardrep__min__5/Motif1400_ems_3hM_482_0001_7396_0001__hardrep__min__5__dimer.npz\n",
      "Monomer - /Users/owenrogers/PycharmProjects/MDRFEP/data/results/all_proteins/hardrep__min__5/Motif1400_ems_3hM_482_0001_7396_0001__hardrep__min__5__monomer.npz\n",
      "Processing files for ems_3hC_1642_000000001_0001:\n",
      "Dimer - /Users/owenrogers/PycharmProjects/MDRFEP/data/results/all_proteins/hardrep__min__5/ems_3hC_1642_000000001_0001__hardrep__min__5__dimer.npz\n",
      "Monomer - /Users/owenrogers/PycharmProjects/MDRFEP/data/results/all_proteins/hardrep__min__5/ems_3hC_1642_000000001_0001__hardrep__min__5__monomer.npz\n",
      "Processing files for longxing_CationpiFixed_HHH_eva_0229_000000001_0001_0001:\n",
      "Dimer - /Users/owenrogers/PycharmProjects/MDRFEP/data/results/all_proteins/hardrep__min__5/longxing_CationpiFixed_HHH_eva_0229_000000001_0001_0001__hardrep__min__5__dimer.npz\n",
      "Monomer - /Users/owenrogers/PycharmProjects/MDRFEP/data/results/all_proteins/hardrep__min__5/longxing_CationpiFixed_HHH_eva_0229_000000001_0001_0001__hardrep__min__5__monomer.npz\n",
      "Processing files for NewR1_ems_ferrM_2623_0002_000000011_0001_0001_0004_crosslinked_1:\n",
      "Dimer - /Users/owenrogers/PycharmProjects/MDRFEP/data/results/all_proteins/hardrep__min__5/NewR1_ems_ferrM_2623_0002_000000011_0001_0001_0004_crosslinked_1__hardrep__min__5__dimer.npz\n",
      "Monomer - /Users/owenrogers/PycharmProjects/MDRFEP/data/results/all_proteins/hardrep__min__5/NewR1_ems_ferrM_2623_0002_000000011_0001_0001_0004_crosslinked_1__hardrep__min__5__monomer.npz\n"
     ]
    }
   ],
   "execution_count": 35
  },
  {
   "metadata": {
    "ExecuteTime": {
     "end_time": "2025-04-27T23:34:34.916428Z",
     "start_time": "2025-04-27T23:34:34.913177Z"
    }
   },
   "cell_type": "code",
   "source": "all_rosetta_data = pd.concat(all_data)",
   "id": "599579fcef82bec7",
   "outputs": [],
   "execution_count": 36
  },
  {
   "metadata": {
    "ExecuteTime": {
     "end_time": "2025-04-27T23:34:37.343356Z",
     "start_time": "2025-04-27T23:34:34.917107Z"
    }
   },
   "cell_type": "code",
   "source": [
    "all_exp_data = []\n",
    "\n",
    "for protein in protein_list:\n",
    "    \n",
    "    assert os.path.exists(f'/Users/owenrogers/PycharmProjects/MDRFEP/data/natives/{protein}.pdb'), 'The protein {protein}.pdb does not exist or is incorrectly named'\n",
    "    assert os.path.exists(f'/Users/owenrogers/PycharmProjects/MDRFEP/data/sequences/{protein}.seq'), 'The protein {protein}.seq does not exist or is incorrectly named'\n",
    "    \n",
    "    exp_df = parse_exp_data(affinity_estimate, protein, f'/Users/owenrogers/PycharmProjects/MDRFEP/data/natives/{protein}.pdb', f'/Users/owenrogers/PycharmProjects/MDRFEP/data/sequences/{protein}.seq')\n",
    "    \n",
    "    all_exp_data.append(exp_df)\n",
    "    \n",
    "all_experimental_data = pd.concat(all_exp_data)"
   ],
   "id": "2a8f8b7af021ae86",
   "outputs": [
    {
     "name": "stdout",
     "output_type": "stream",
     "text": [
      "bcov_v3_r3_ems_3hC_436_0002_000000017_0001_0001_47_64_H_.._ems_p1-15H-GBL-16H-GABBL-16H_0382_0001_0001_0001_0001_0001_0001_0001_0001 sequence: SVKKKVRKVEKKARKAGDELAVLLARRVLEALEKGLVSEEDADESADRIEEALKK\n",
      "core.import_pose.import_pose: File '/Users/owenrogers/PycharmProjects/MDRFEP/data/natives/bcov_v3_r3_ems_3hC_436_0002_000000017_0001_0001_47_64_H_.._ems_p1-15H-GBL-16H-GABBL-16H_0382_0001_0001_0001_0001_0001_0001_0001_0001.pdb' automatically determined to be of type PDB\n",
      "core.conformation.Conformation: Found disulfide between residues 61 76\n",
      "core.conformation.Conformation: Found disulfide between residues 93 101\n",
      "core.conformation.Conformation: Found disulfide between residues 127 137\n",
      "Pose object created from bcov_v3_r3_ems_3hC_436_0002_000000017_0001_0001_47_64_H_.._ems_p1-15H-GBL-16H-GABBL-16H_0382_0001_0001_0001_0001_0001_0001_0001_0001:\n",
      "PDB file name: /Users/owenrogers/PycharmProjects/MDRFEP/data/natives/bcov_v3_r3_ems_3hC_436_0002_000000017_0001_0001_47_64_H_.._ems_p1-15H-GBL-16H-GABBL-16H_0382_0001_0001_0001_0001_0001_0001_0001_0001.pdb\n",
      "Total residues: 248\n",
      "Sequence: SVKKKVRKVEKKARKAGDELAVLLARRVLEALEKGLVSEEDADESADRIEEALKKDYSFSCYSQLEVNGSQHSLTCAFEDPDVNTTNLEFEICGALVEVKCLNFRKLQEIYFIETKKFLLIGKSNICVKVGEKSLTCKKIDLTTIVKPEAPFDLSVVYREGANDFVVTFNTSHLQKKYVKVLMHDVAYRQEKDENKWTHVNLSSTKLTLLQRKLQPAAMYEIKVRSIPDHYFKGFWSEWSPSYYFRTP\n",
      "Fold tree:\n",
      "FOLD_TREE  EDGE 1 55 -1  EDGE 1 56 1  EDGE 56 248 -1 \n",
      "core.conformation.Conformation: Found disulfide between residues 6 21\n",
      "core.conformation.Conformation: Found disulfide between residues 38 46\n",
      "core.conformation.Conformation: Found disulfide between residues 72 82\n",
      "Structure of experimental data for bcov_v3_r3_ems_3hC_436_0002_000000017_0001_0001_47_64_H_.._ems_p1-15H-GBL-16H-GABBL-16H_0382_0001_0001_0001_0001_0001_0001_0001_0001:\n",
      "(1045, 17)\n",
      "Motif1400_ems_3hM_482_0001_7396_0001 sequence: DPSKELDKVYRTAFKRITSIPDKEKQKEVVKEATELLRRIAKDEEEKKLASLISLFLKTLS\n",
      "core.import_pose.import_pose: File '/Users/owenrogers/PycharmProjects/MDRFEP/data/natives/Motif1400_ems_3hM_482_0001_7396_0001.pdb' automatically determined to be of type PDB\n",
      "core.conformation.Conformation: Found disulfide between residues 89 141\n",
      "Pose object created from Motif1400_ems_3hM_482_0001_7396_0001:\n",
      "PDB file name: /Users/owenrogers/PycharmProjects/MDRFEP/data/natives/Motif1400_ems_3hM_482_0001_7396_0001.pdb\n",
      "Total residues: 162\n",
      "Sequence: DPSKELDKVYRTAFKRITSIPDKEKQKEVVKEATELLRRIAKDEEEKKLASLISLFLKTLSRSPHRPILQAGLPANASTVVGGDVEFVCKVYSDAQPHIQWIKHVPYLKVLKAAGVNTTDKEIEVLYIRNVTFEDAGEYTCLAGNSIGISFHSAWLTVLPAP\n",
      "Fold tree:\n",
      "FOLD_TREE  EDGE 1 61 -1  EDGE 1 62 1  EDGE 62 162 -1 \n",
      "core.conformation.Conformation: Found disulfide between residues 28 80\n",
      "Structure of experimental data for Motif1400_ems_3hM_482_0001_7396_0001:\n",
      "(1098, 17)\n",
      "ems_3hC_1642_000000001_0001 sequence: NAEEILEKATLIAIEAWMLAKDEEVKKLVRTLARQVRKLLSNNDDDSAKSVLDTLKSVLEDLKS\n",
      "core.import_pose.import_pose: File '/Users/owenrogers/PycharmProjects/MDRFEP/data/natives/ems_3hC_1642_000000001_0001.pdb' automatically determined to be of type PDB\n",
      "Pose object created from ems_3hC_1642_000000001_0001:\n",
      "PDB file name: /Users/owenrogers/PycharmProjects/MDRFEP/data/natives/ems_3hC_1642_000000001_0001.pdb\n",
      "Total residues: 202\n",
      "Sequence: NAEEILEKATLIAIEAWMLAKDEEVKKLVRTLARQVRKLLSNNDDDSAKSVLDTLKSVLEDLKSANPYISVANIMLQNYVKQREKYNYDTLKEQFTFIKNASTSIVYMQFANFMNIDNSLSPVIRYQKLYRRSINIISINNINNNEATVTFESLAQNNTGEILENMLWEAKIGFIMDSISTNMPFHFIVTSYKLKLLRNKNQ\n",
      "Fold tree:\n",
      "FOLD_TREE  EDGE 1 64 -1  EDGE 1 65 1  EDGE 65 202 -1 \n",
      "Structure of experimental data for ems_3hC_1642_000000001_0001:\n",
      "(1216, 17)\n",
      "longxing_CationpiFixed_HHH_eva_0229_000000001_0001_0001 sequence: RDELKERIFKTIVRAVVTGDPELLKEAKKLLEKLKKLGRLDQSAKQLEKAVRFVEKQLRS\n",
      "core.import_pose.import_pose: File '/Users/owenrogers/PycharmProjects/MDRFEP/data/natives/longxing_CationpiFixed_HHH_eva_0229_000000001_0001_0001.pdb' automatically determined to be of type PDB\n",
      "core.conformation.Conformation: Found disulfide between residues 79 124\n",
      "Pose object created from longxing_CationpiFixed_HHH_eva_0229_000000001_0001_0001:\n",
      "PDB file name: /Users/owenrogers/PycharmProjects/MDRFEP/data/natives/longxing_CationpiFixed_HHH_eva_0229_000000001_0001_0001.pdb\n",
      "Total residues: 161\n",
      "Sequence: RDELKERIFKTIVRAVVTGDPELLKEAKKLLEKLKKLGRLDQSAKQLEKAVRFVEKQLRSVSFPASVQLHTAVEMHHWCIPFSVDGQPAPSLRWLFNGSVLNETSFIFTEFLEPAANETVRHGCLRLNQPTHVNNGNYTLLAANPFGQASASIMAAFMDNP\n",
      "Fold tree:\n",
      "FOLD_TREE  EDGE 1 60 -1  EDGE 1 61 1  EDGE 61 161 -1 \n",
      "core.conformation.Conformation: Found disulfide between residues 19 64\n",
      "Structure of experimental data for longxing_CationpiFixed_HHH_eva_0229_000000001_0001_0001:\n",
      "(1140, 17)\n",
      "NewR1_ems_ferrM_2623_0002_000000011_0001_0001_0004_crosslinked_1 sequence: NHIACEIHNPEAAKEIAKVANVRRVFVIKQPGNRYFVLLKDADPEGVKKVASKYNARCVIRE\n",
      "core.import_pose.import_pose: File '/Users/owenrogers/PycharmProjects/MDRFEP/data/natives/NewR1_ems_ferrM_2623_0002_000000011_0001_0001_0004_crosslinked_1.pdb' automatically determined to be of type PDB\n",
      "core.conformation.Conformation: Found disulfide between residues 5 58\n",
      "core.conformation.Conformation: Found disulfide between residues 77 113\n",
      "Pose object created from NewR1_ems_ferrM_2623_0002_000000011_0001_0001_0004_crosslinked_1:\n",
      "PDB file name: /Users/owenrogers/PycharmProjects/MDRFEP/data/natives/NewR1_ems_ferrM_2623_0002_000000011_0001_0001_0004_crosslinked_1.pdb\n",
      "Total residues: 125\n",
      "Sequence: NHIACEIHNPEAAKEIAKVANVRRVFVIKQPGNRYFVLLKDADPEGVKKVASKYNARCVIREKIPIEELEDRVFVNCNTSITWVEGTVGTLLSDITRLDLGKRILDPRGIYRCNESTVQVHYRMC\n",
      "Fold tree:\n",
      "FOLD_TREE  EDGE 1 62 -1  EDGE 1 63 1  EDGE 63 125 -1 \n",
      "core.conformation.Conformation: Found disulfide between residues 5 58\n",
      "core.conformation.Conformation: Found disulfide between residues 15 51\n",
      "Structure of experimental data for NewR1_ems_ferrM_2623_0002_000000011_0001_0001_0004_crosslinked_1:\n",
      "(1178, 17)\n"
     ]
    }
   ],
   "execution_count": 37
  },
  {
   "metadata": {
    "ExecuteTime": {
     "end_time": "2025-04-27T23:34:37.359728Z",
     "start_time": "2025-04-27T23:34:37.348880Z"
    }
   },
   "cell_type": "code",
   "source": "all_data = combine_dfs(all_rosetta_data, all_experimental_data)",
   "id": "54136629dbc44b99",
   "outputs": [],
   "execution_count": 38
  },
  {
   "metadata": {
    "ExecuteTime": {
     "end_time": "2025-04-27T23:34:37.363201Z",
     "start_time": "2025-04-27T23:34:37.360497Z"
    }
   },
   "cell_type": "code",
   "source": "metric = 'correlation_longxing'",
   "id": "518144106f5e09f4",
   "outputs": [],
   "execution_count": 39
  },
  {
   "metadata": {
    "ExecuteTime": {
     "end_time": "2025-04-27T23:34:56.866257Z",
     "start_time": "2025-04-27T23:34:37.364204Z"
    }
   },
   "cell_type": "code",
   "source": "corr_df = grid_search(all_data, run_of_interest, beta_step=0.01, metric_of_interest=metric, directory='/Users/owenrogers/PycharmProjects/MDRFEP/data/grid_search_results')",
   "id": "f09e7581b19c4ebe",
   "outputs": [
    {
     "name": "stdout",
     "output_type": "stream",
     "text": [
      "Fitting (beta of 1e-09)\n",
      "Length of dg_df before fitting ∆G_fold:\n",
      "5738\n",
      "Length of dg_df after fitting ∆G_fold:\n",
      "5738\n",
      "Length of to_assess before filtering: 5738\n",
      "Length of to_assess after filtering: 4204\n",
      "Correlation with beta 1e-09:\n",
      "0.22274264306306243\n",
      "Fitting (beta of 0.01)\n",
      "Length of dg_df before fitting ∆G_fold:\n",
      "5738\n",
      "Length of dg_df after fitting ∆G_fold:\n",
      "5738\n",
      "Length of to_assess before filtering: 5738\n",
      "Length of to_assess after filtering: 4204\n",
      "Correlation with beta 0.01:\n",
      "0.06608643999658767\n",
      "Fitting (beta of 0.02)\n",
      "Length of dg_df before fitting ∆G_fold:\n",
      "5738\n",
      "Length of dg_df after fitting ∆G_fold:\n",
      "5738\n",
      "Length of to_assess before filtering: 5738\n",
      "Length of to_assess after filtering: 4204\n",
      "Correlation with beta 0.02:\n",
      "0.040491034992881904\n",
      "Fitting (beta of 0.03)\n",
      "Length of dg_df before fitting ∆G_fold:\n",
      "5738\n",
      "Length of dg_df after fitting ∆G_fold:\n",
      "5738\n",
      "Length of to_assess before filtering: 5738\n",
      "Length of to_assess after filtering: 4204\n",
      "Correlation with beta 0.03:\n",
      "0.030675262426067967\n",
      "Fitting (beta of 0.04)\n",
      "Length of dg_df before fitting ∆G_fold:\n",
      "5738\n",
      "Length of dg_df after fitting ∆G_fold:\n",
      "5738\n",
      "Length of to_assess before filtering: 5738\n",
      "Length of to_assess after filtering: 4204\n",
      "Correlation with beta 0.04:\n",
      "0.021585500011958234\n",
      "Fitting (beta of 0.05)\n",
      "Length of dg_df before fitting ∆G_fold:\n",
      "5738\n",
      "Length of dg_df after fitting ∆G_fold:\n",
      "5738\n",
      "Length of to_assess before filtering: 5738\n",
      "Length of to_assess after filtering: 4204\n",
      "Correlation with beta 0.05:\n",
      "0.0144464938412789\n",
      "Fitting (beta of 0.06)\n",
      "Length of dg_df before fitting ∆G_fold:\n",
      "5738\n",
      "Length of dg_df after fitting ∆G_fold:\n",
      "5738\n",
      "Length of to_assess before filtering: 5738\n",
      "Length of to_assess after filtering: 4204\n",
      "Correlation with beta 0.06:\n",
      "0.009521010179903843\n",
      "Fitting (beta of 0.07)\n",
      "Length of dg_df before fitting ∆G_fold:\n",
      "5738\n",
      "Length of dg_df after fitting ∆G_fold:\n",
      "5738\n",
      "Length of to_assess before filtering: 5738\n",
      "Length of to_assess after filtering: 4204\n",
      "Correlation with beta 0.07:\n",
      "0.005717378344610757\n",
      "Fitting (beta of 0.08)\n",
      "Length of dg_df before fitting ∆G_fold:\n",
      "5738\n",
      "Length of dg_df after fitting ∆G_fold:\n",
      "5738\n",
      "Length of to_assess before filtering: 5738\n",
      "Length of to_assess after filtering: 4204\n",
      "Correlation with beta 0.08:\n",
      "0.002139029579923034\n",
      "Fitting (beta of 0.09)\n",
      "Length of dg_df before fitting ∆G_fold:\n",
      "5738\n",
      "Length of dg_df after fitting ∆G_fold:\n",
      "5738\n",
      "Length of to_assess before filtering: 5738\n",
      "Length of to_assess after filtering: 4204\n",
      "Correlation with beta 0.09:\n",
      "-0.001085376933585045\n",
      "Fitting (beta of 0.1)\n",
      "Length of dg_df before fitting ∆G_fold:\n",
      "5738\n",
      "Length of dg_df after fitting ∆G_fold:\n",
      "5738\n",
      "Length of to_assess before filtering: 5738\n",
      "Length of to_assess after filtering: 4204\n",
      "Correlation with beta 0.1:\n",
      "-0.0036410003073788864\n",
      "∆G_fold of Motif1400_ems_3hM_482_0001_7396_0001 for ideal beta:\n",
      "-10.0\n",
      "∆G_fold of NewR1_ems_ferrM_2623_0002_000000011_0001_0001_0004_crosslinked_1 for ideal beta:\n",
      "-6.356356356356356\n",
      "∆G_fold of bcov_v3_r3_ems_3hC_436_0002_000000017_0001_0001_47_64_H_.._ems_p1-15H-GBL-16H-GABBL-16H_0382_0001_0001_0001_0001_0001_0001_0001_0001 for ideal beta:\n",
      "-10.0\n",
      "∆G_fold of ems_3hC_1642_000000001_0001 for ideal beta:\n",
      "-10.0\n",
      "∆G_fold of longxing_CationpiFixed_HHH_eva_0229_000000001_0001_0001 for ideal beta:\n",
      "-10.0\n"
     ]
    }
   ],
   "execution_count": 40
  },
  {
   "metadata": {
    "ExecuteTime": {
     "end_time": "2025-04-27T23:34:56.869048Z",
     "start_time": "2025-04-27T23:34:56.867004Z"
    }
   },
   "cell_type": "code",
   "source": "print(corr_df.loc[np.argmax(corr_df[metric]), 'beta'])",
   "id": "9de0db7faee50428",
   "outputs": [
    {
     "name": "stdout",
     "output_type": "stream",
     "text": [
      "0.01\n"
     ]
    }
   ],
   "execution_count": 41
  },
  {
   "metadata": {},
   "cell_type": "code",
   "outputs": [],
   "execution_count": null,
   "source": "",
   "id": "6188b7d94e87fbd5"
  }
 ],
 "metadata": {
  "kernelspec": {
   "display_name": "Python 3",
   "language": "python",
   "name": "python3"
  },
  "language_info": {
   "codemirror_mode": {
    "name": "ipython",
    "version": 2
   },
   "file_extension": ".py",
   "mimetype": "text/x-python",
   "name": "python",
   "nbconvert_exporter": "python",
   "pygments_lexer": "ipython2",
   "version": "2.7.6"
  }
 },
 "nbformat": 4,
 "nbformat_minor": 5
}
