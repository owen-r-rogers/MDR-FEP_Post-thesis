{
 "cells": [
  {
   "metadata": {},
   "cell_type": "markdown",
   "source": [
    "# This notebook is for unit testing of mdr_dev.py code. Essentially a sandbox for re-writing the Rosetta code behind the R part of MDR-FEP\n",
    "\n",
    "---"
   ],
   "id": "6bd43c632b6640d3"
  },
  {
   "metadata": {
    "ExecuteTime": {
     "end_time": "2025-05-03T16:36:11.938450Z",
     "start_time": "2025-05-03T16:36:09.163465Z"
    }
   },
   "cell_type": "code",
   "source": "from dev_utils.mdr_dev import *",
   "id": "cfae92abf23c2d21",
   "outputs": [],
   "execution_count": 1
  },
  {
   "metadata": {},
   "cell_type": "markdown",
   "source": [
    "### Double mutants with MDR-FEP\n",
    "\n",
    "---"
   ],
   "id": "9515720d1076edb6"
  },
  {
   "metadata": {},
   "cell_type": "code",
   "outputs": [],
   "execution_count": null,
   "source": "",
   "id": "a9b7688fd39459a3"
  },
  {
   "metadata": {},
   "cell_type": "code",
   "outputs": [],
   "execution_count": null,
   "source": "",
   "id": "37e94b972ea33373"
  },
  {
   "metadata": {},
   "cell_type": "code",
   "outputs": [],
   "execution_count": null,
   "source": "",
   "id": "1aeb0f0896275886"
  },
  {
   "metadata": {},
   "cell_type": "code",
   "outputs": [],
   "execution_count": null,
   "source": "",
   "id": "31941b6a203c2618"
  },
  {
   "metadata": {},
   "cell_type": "code",
   "outputs": [],
   "execution_count": null,
   "source": "",
   "id": "a74620b5f61b2b9e"
  },
  {
   "metadata": {},
   "cell_type": "code",
   "outputs": [],
   "execution_count": null,
   "source": "",
   "id": "426a25c5b52b166f"
  },
  {
   "metadata": {},
   "cell_type": "code",
   "outputs": [],
   "execution_count": null,
   "source": "",
   "id": "d644a0a632d05248"
  },
  {
   "metadata": {},
   "cell_type": "code",
   "outputs": [],
   "execution_count": null,
   "source": "",
   "id": "871b350fbfe697a2"
  },
  {
   "metadata": {},
   "cell_type": "code",
   "outputs": [],
   "execution_count": null,
   "source": "",
   "id": "47c93164dd04d261"
  },
  {
   "metadata": {},
   "cell_type": "code",
   "outputs": [],
   "execution_count": null,
   "source": "",
   "id": "e0678548557e0093"
  },
  {
   "metadata": {},
   "cell_type": "code",
   "outputs": [],
   "execution_count": null,
   "source": "",
   "id": "9e041b8ed8632b36"
  },
  {
   "metadata": {},
   "cell_type": "code",
   "outputs": [],
   "execution_count": null,
   "source": "",
   "id": "87222d8b5bd72d60"
  },
  {
   "metadata": {},
   "cell_type": "code",
   "outputs": [],
   "execution_count": null,
   "source": "",
   "id": "8e416c8f6596c3f5"
  },
  {
   "metadata": {},
   "cell_type": "code",
   "outputs": [],
   "execution_count": null,
   "source": "",
   "id": "37cb4179a2eea03d"
  },
  {
   "metadata": {},
   "cell_type": "code",
   "outputs": [],
   "execution_count": null,
   "source": "",
   "id": "a0eb8a630752e105"
  },
  {
   "metadata": {},
   "cell_type": "code",
   "outputs": [],
   "execution_count": null,
   "source": "",
   "id": "8dfd27c9b75a1703"
  },
  {
   "metadata": {},
   "cell_type": "code",
   "outputs": [],
   "execution_count": null,
   "source": "",
   "id": "4a1d65fc3e996188"
  },
  {
   "metadata": {},
   "cell_type": "code",
   "outputs": [],
   "execution_count": null,
   "source": "",
   "id": "57900012bc60b28e"
  },
  {
   "metadata": {},
   "cell_type": "code",
   "outputs": [],
   "execution_count": null,
   "source": "",
   "id": "c775f674da2925dc"
  },
  {
   "metadata": {},
   "cell_type": "code",
   "outputs": [],
   "execution_count": null,
   "source": "",
   "id": "d2fca8e4a3e605b1"
  },
  {
   "metadata": {},
   "cell_type": "code",
   "outputs": [],
   "execution_count": null,
   "source": "",
   "id": "f7e366bdcb352098"
  },
  {
   "metadata": {},
   "cell_type": "code",
   "outputs": [],
   "execution_count": null,
   "source": "",
   "id": "18ee7a99eb01da2d"
  },
  {
   "metadata": {},
   "cell_type": "code",
   "outputs": [],
   "execution_count": null,
   "source": "",
   "id": "93dc22c46fe514e6"
  },
  {
   "metadata": {},
   "cell_type": "code",
   "outputs": [],
   "execution_count": null,
   "source": "",
   "id": "955b36c305f599bb"
  },
  {
   "metadata": {},
   "cell_type": "code",
   "outputs": [],
   "execution_count": null,
   "source": "",
   "id": "abf943ede422be2f"
  },
  {
   "metadata": {},
   "cell_type": "code",
   "outputs": [],
   "execution_count": null,
   "source": "",
   "id": "bad0f5a9964fc931"
  },
  {
   "metadata": {},
   "cell_type": "code",
   "outputs": [],
   "execution_count": null,
   "source": "",
   "id": "f11f5d17555ac21a"
  },
  {
   "metadata": {},
   "cell_type": "code",
   "outputs": [],
   "execution_count": null,
   "source": "",
   "id": "25b9b42b0a642848"
  },
  {
   "metadata": {},
   "cell_type": "markdown",
   "source": [
    "### Need to develop a new way to implement a dictionary for mutations (in the case that you don't want to do SSM).\n",
    "\n",
    "---"
   ],
   "id": "f60ba6fbd2091e01"
  },
  {
   "metadata": {
    "ExecuteTime": {
     "end_time": "2025-04-30T18:52:34.057139Z",
     "start_time": "2025-04-30T18:52:34.043779Z"
    }
   },
   "cell_type": "code",
   "source": [
    "# simple example\n",
    "\n",
    "position = '445'\n",
    "mutations = 'AC'"
   ],
   "id": "f2cbdd0e588181d8",
   "outputs": [],
   "execution_count": 17
  },
  {
   "metadata": {
    "ExecuteTime": {
     "end_time": "2025-04-30T18:52:49.184930Z",
     "start_time": "2025-04-30T18:52:49.175615Z"
    }
   },
   "cell_type": "code",
   "source": "mut_dict = {position: list(mutations)}",
   "id": "f4c650633bdb22ef",
   "outputs": [],
   "execution_count": 21
  },
  {
   "metadata": {
    "ExecuteTime": {
     "end_time": "2025-04-30T18:52:49.378276Z",
     "start_time": "2025-04-30T18:52:49.375158Z"
    }
   },
   "cell_type": "code",
   "source": "print(mut_dict)",
   "id": "9b62c19d784dd87d",
   "outputs": [
    {
     "name": "stdout",
     "output_type": "stream",
     "text": [
      "{'445': ['A', 'C']}\n"
     ]
    }
   ],
   "execution_count": 22
  },
  {
   "metadata": {
    "ExecuteTime": {
     "end_time": "2025-04-30T18:53:38.891157Z",
     "start_time": "2025-04-30T18:53:38.875092Z"
    }
   },
   "cell_type": "code",
   "source": [
    "# should pass in mutations in the form of [sequence position][mutations]\n",
    "\n",
    "mut1 = '1A'\n",
    "mut2 = '1C'"
   ],
   "id": "54f04cdc5695109a",
   "outputs": [],
   "execution_count": 23
  },
  {
   "metadata": {
    "ExecuteTime": {
     "end_time": "2025-04-30T18:53:54.010639Z",
     "start_time": "2025-04-30T18:53:54.002163Z"
    }
   },
   "cell_type": "code",
   "source": [
    "\"\"\"\n",
    "arguments I imagine\n",
    "\n",
    "--mutations 1A 1C 2D 4E\n",
    "\n",
    "\n",
    "\"\"\""
   ],
   "id": "9a68cfa6c989eb72",
   "outputs": [],
   "execution_count": 24
  },
  {
   "metadata": {
    "ExecuteTime": {
     "end_time": "2025-04-30T21:21:06.258956Z",
     "start_time": "2025-04-30T21:21:06.253259Z"
    }
   },
   "cell_type": "code",
   "source": "mutations = '1A 2A 3A 4A 5A 6A 7A 8A 9A 10A 1C 2C 3C 4C 5C 6C 7C 8C 9C'",
   "id": "3f895a837f7af000",
   "outputs": [],
   "execution_count": 9
  },
  {
   "metadata": {
    "ExecuteTime": {
     "end_time": "2025-04-30T21:21:06.683135Z",
     "start_time": "2025-04-30T21:21:06.680885Z"
    }
   },
   "cell_type": "code",
   "source": "print(type(mutations))",
   "id": "124951ebdd121145",
   "outputs": [
    {
     "name": "stdout",
     "output_type": "stream",
     "text": [
      "<class 'str'>\n"
     ]
    }
   ],
   "execution_count": 10
  },
  {
   "metadata": {
    "ExecuteTime": {
     "end_time": "2025-04-30T21:21:07.080513Z",
     "start_time": "2025-04-30T21:21:07.076317Z"
    }
   },
   "cell_type": "code",
   "source": [
    "mutations = mutations.split(' ')\n",
    "\n",
    "mut_dict = {}\n",
    "\n",
    "for mut in mutations:\n",
    "    seqpos = mut[:-1]\n",
    "    mutaa = mut[-1]\n",
    "\n",
    "    print(type(seqpos))\n",
    "    if seqpos not in mut_dict:\n",
    "        mut_dict[seqpos] = []\n",
    "    \n",
    "    mut_dict[seqpos].append(mutaa)\n",
    "    \n",
    "print(mut_dict)"
   ],
   "id": "f9ab21e7830c93e3",
   "outputs": [
    {
     "name": "stdout",
     "output_type": "stream",
     "text": [
      "<class 'str'>\n",
      "<class 'str'>\n",
      "<class 'str'>\n",
      "<class 'str'>\n",
      "<class 'str'>\n",
      "<class 'str'>\n",
      "<class 'str'>\n",
      "<class 'str'>\n",
      "<class 'str'>\n",
      "<class 'str'>\n",
      "<class 'str'>\n",
      "<class 'str'>\n",
      "<class 'str'>\n",
      "<class 'str'>\n",
      "<class 'str'>\n",
      "<class 'str'>\n",
      "<class 'str'>\n",
      "<class 'str'>\n",
      "<class 'str'>\n",
      "{'1': ['A', 'C'], '2': ['A', 'C'], '3': ['A', 'C'], '4': ['A', 'C'], '5': ['A', 'C'], '6': ['A', 'C'], '7': ['A', 'C'], '8': ['A', 'C'], '9': ['A', 'C'], '10': ['A']}\n"
     ]
    }
   ],
   "execution_count": 11
  },
  {
   "metadata": {
    "ExecuteTime": {
     "end_time": "2025-04-30T21:18:07.940968Z",
     "start_time": "2025-04-30T21:18:07.935533Z"
    }
   },
   "cell_type": "code",
   "source": "muts = ['1A', '1C']",
   "id": "5446a7d075827884",
   "outputs": [],
   "execution_count": 4
  },
  {
   "metadata": {
    "ExecuteTime": {
     "end_time": "2025-04-30T21:18:12.787784Z",
     "start_time": "2025-04-30T21:18:12.148417Z"
    }
   },
   "cell_type": "code",
   "source": "muts.split(' ')",
   "id": "20ac3e6670b48e3e",
   "outputs": [
    {
     "ename": "AttributeError",
     "evalue": "'list' object has no attribute 'split'",
     "output_type": "error",
     "traceback": [
      "\u001B[0;31m---------------------------------------------------------------------------\u001B[0m",
      "\u001B[0;31mAttributeError\u001B[0m                            Traceback (most recent call last)",
      "Cell \u001B[0;32mIn[5], line 1\u001B[0m\n\u001B[0;32m----> 1\u001B[0m muts\u001B[38;5;241m.\u001B[39msplit(\u001B[38;5;124m'\u001B[39m\u001B[38;5;124m \u001B[39m\u001B[38;5;124m'\u001B[39m)\n",
      "\u001B[0;31mAttributeError\u001B[0m: 'list' object has no attribute 'split'"
     ]
    }
   ],
   "execution_count": 5
  },
  {
   "metadata": {
    "ExecuteTime": {
     "end_time": "2025-04-30T21:19:08.185693Z",
     "start_time": "2025-04-30T21:19:08.178722Z"
    }
   },
   "cell_type": "code",
   "source": "print(isinstance(muts, list))",
   "id": "fe3cf7a853db1ddc",
   "outputs": [
    {
     "name": "stdout",
     "output_type": "stream",
     "text": [
      "True\n"
     ]
    }
   ],
   "execution_count": 6
  }
 ],
 "metadata": {
  "kernelspec": {
   "display_name": "Python 3",
   "language": "python",
   "name": "python3"
  },
  "language_info": {
   "codemirror_mode": {
    "name": "ipython",
    "version": 2
   },
   "file_extension": ".py",
   "mimetype": "text/x-python",
   "name": "python",
   "nbconvert_exporter": "python",
   "pygments_lexer": "ipython2",
   "version": "2.7.6"
  }
 },
 "nbformat": 4,
 "nbformat_minor": 5
}
