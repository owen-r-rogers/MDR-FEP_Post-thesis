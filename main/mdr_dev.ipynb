{
 "cells": [
  {
   "metadata": {},
   "cell_type": "markdown",
   "source": [
    "# This notebook is for unit testing of mdr_dev.py code. Essentially a sandbox for re-writing the Rosetta code behind the R part of MDR-FEP\n",
    "\n",
    "---"
   ],
   "id": "6bd43c632b6640d3"
  },
  {
   "metadata": {
    "ExecuteTime": {
     "end_time": "2025-05-03T16:36:11.938450Z",
     "start_time": "2025-05-03T16:36:09.163465Z"
    }
   },
   "cell_type": "code",
   "source": "from dev_utils.mdr_dev import *",
   "id": "cfae92abf23c2d21",
   "outputs": [],
   "execution_count": 1
  },
  {
   "metadata": {
    "ExecuteTime": {
     "end_time": "2025-05-03T16:36:24.126749Z",
     "start_time": "2025-05-03T16:36:24.058008Z"
    }
   },
   "cell_type": "code",
   "source": "init('-ex1 -ex2 -ex3 -ex4')",
   "id": "45dbf82497c2d426",
   "outputs": [
    {
     "name": "stdout",
     "output_type": "stream",
     "text": [
      "┌──────────────────────────────────────────────────────────────────────────────┐\n",
      "│                                 PyRosetta-4                                  │\n",
      "│              Created in JHU by Sergey Lyskov and PyRosetta Team              │\n",
      "│              (C) Copyright Rosetta Commons Member Institutions               │\n",
      "│                                                                              │\n",
      "│ NOTE: USE OF PyRosetta FOR COMMERCIAL PURPOSES REQUIRE PURCHASE OF A LICENSE │\n",
      "│         See LICENSE.PyRosetta.md or email license@uw.edu for details         │\n",
      "└──────────────────────────────────────────────────────────────────────────────┘\n",
      "PyRosetta-4 2024 [Rosetta PyRosetta4.conda.m1.cxx11thread.serialization.python312.Release 2024.39+release.59628fbc5bc09f1221e1642f1f8d157ce49b1410 2024-09-23T07:49:48] retrieved from: http://www.pyrosetta.org\n",
      "core.init: Checking for fconfig files in pwd and ./rosetta/flags\n",
      "core.init: Rosetta version: PyRosetta4.conda.m1.cxx11thread.serialization.python312.Release r387 2024.39+release.59628fbc5b 59628fbc5bc09f1221e1642f1f8d157ce49b1410 http://www.pyrosetta.org 2024-09-23T07:49:48\n",
      "core.init: Rosetta extras: [cxx11thread, serialization]\n",
      "core.init: command: PyRosetta -ex1 -ex2 -ex3 -ex4 -database /Users/owenrogers/anaconda3/envs/pyrosetta/lib/python3.12/site-packages/pyrosetta/database\n",
      "basic.random.init_random_generator: 'RNG device' seed mode, using '/dev/urandom', seed=1977387310 seed_offset=0 real_seed=1977387310 thread_index=0\n",
      "basic.random.init_random_generator: RandomGenerator:init: Normal mode, seed=1977387310 RG_type=mt19937\n"
     ]
    }
   ],
   "execution_count": 2
  },
  {
   "metadata": {
    "ExecuteTime": {
     "end_time": "2025-05-03T16:37:25.746994Z",
     "start_time": "2025-05-03T16:37:24.185069Z"
    }
   },
   "cell_type": "code",
   "source": "pose = rosetta.core.import_pose.pose_from_file('1QYS.clean.pdb')",
   "id": "6e0d63e7b8a9f64c",
   "outputs": [
    {
     "name": "stdout",
     "output_type": "stream",
     "text": [
      "core.import_pose.import_pose: File '1QYS.clean.pdb' automatically determined to be of type PDB\n",
      "core.conformation.Conformation: [ WARNING ] missing heavyatom:  CG  on residue LYS 13\n",
      "core.conformation.Conformation: [ WARNING ] missing heavyatom:  CD  on residue LYS 13\n",
      "core.conformation.Conformation: [ WARNING ] missing heavyatom:  CE  on residue LYS 13\n",
      "core.conformation.Conformation: [ WARNING ] missing heavyatom:  NZ  on residue LYS 13\n",
      "core.conformation.Conformation: [ WARNING ] missing heavyatom:  CG  on residue PHE 15\n",
      "core.conformation.Conformation: [ WARNING ] missing heavyatom:  CD1 on residue PHE 15\n",
      "core.conformation.Conformation: [ WARNING ] missing heavyatom:  CD2 on residue PHE 15\n",
      "core.conformation.Conformation: [ WARNING ] missing heavyatom:  CE1 on residue PHE 15\n",
      "core.conformation.Conformation: [ WARNING ] missing heavyatom:  CE2 on residue PHE 15\n",
      "core.conformation.Conformation: [ WARNING ] missing heavyatom:  CZ  on residue PHE 15\n",
      "core.conformation.Conformation: [ WARNING ] missing heavyatom:  OG  on residue SER 25\n",
      "core.conformation.Conformation: [ WARNING ] missing heavyatom:  CG  on residue GLN 28\n",
      "core.conformation.Conformation: [ WARNING ] missing heavyatom:  CD  on residue GLN 28\n",
      "core.conformation.Conformation: [ WARNING ] missing heavyatom:  OE1 on residue GLN 28\n",
      "core.conformation.Conformation: [ WARNING ] missing heavyatom:  NE2 on residue GLN 28\n",
      "core.conformation.Conformation: [ WARNING ] missing heavyatom:  CG  on residue LYS 29\n",
      "core.conformation.Conformation: [ WARNING ] missing heavyatom:  CD  on residue LYS 29\n",
      "core.conformation.Conformation: [ WARNING ] missing heavyatom:  CE  on residue LYS 29\n",
      "core.conformation.Conformation: [ WARNING ] missing heavyatom:  NZ  on residue LYS 29\n",
      "core.conformation.Conformation: [ WARNING ] missing heavyatom:  CG  on residue ASN 32\n",
      "core.conformation.Conformation: [ WARNING ] missing heavyatom:  OD1 on residue ASN 32\n",
      "core.conformation.Conformation: [ WARNING ] missing heavyatom:  ND2 on residue ASN 32\n",
      "core.conformation.Conformation: [ WARNING ] missing heavyatom:  CG  on residue LEU 34\n",
      "core.conformation.Conformation: [ WARNING ] missing heavyatom:  CD1 on residue LEU 34\n",
      "core.conformation.Conformation: [ WARNING ] missing heavyatom:  CD2 on residue LEU 34\n",
      "core.conformation.Conformation: [ WARNING ] missing heavyatom:  CG  on residue LYS 43\n",
      "core.conformation.Conformation: [ WARNING ] missing heavyatom:  CD  on residue LYS 43\n",
      "core.conformation.Conformation: [ WARNING ] missing heavyatom:  CE  on residue LYS 43\n",
      "core.conformation.Conformation: [ WARNING ] missing heavyatom:  NZ  on residue LYS 43\n",
      "core.conformation.Conformation: [ WARNING ] missing heavyatom:  CG  on residue ARG 44\n",
      "core.conformation.Conformation: [ WARNING ] missing heavyatom:  CD  on residue ARG 44\n",
      "core.conformation.Conformation: [ WARNING ] missing heavyatom:  NE  on residue ARG 44\n",
      "core.conformation.Conformation: [ WARNING ] missing heavyatom:  CZ  on residue ARG 44\n",
      "core.conformation.Conformation: [ WARNING ] missing heavyatom:  NH1 on residue ARG 44\n",
      "core.conformation.Conformation: [ WARNING ] missing heavyatom:  NH2 on residue ARG 44\n",
      "core.conformation.Conformation: [ WARNING ] missing heavyatom:  CG  on residue ARG 52\n",
      "core.conformation.Conformation: [ WARNING ] missing heavyatom:  CD  on residue ARG 52\n",
      "core.conformation.Conformation: [ WARNING ] missing heavyatom:  NE  on residue ARG 52\n",
      "core.conformation.Conformation: [ WARNING ] missing heavyatom:  CZ  on residue ARG 52\n",
      "core.conformation.Conformation: [ WARNING ] missing heavyatom:  NH1 on residue ARG 52\n",
      "core.conformation.Conformation: [ WARNING ] missing heavyatom:  NH2 on residue ARG 52\n",
      "core.conformation.Conformation: [ WARNING ] missing heavyatom:  CG  on residue LYS 59\n",
      "core.conformation.Conformation: [ WARNING ] missing heavyatom:  CD  on residue LYS 59\n",
      "core.conformation.Conformation: [ WARNING ] missing heavyatom:  CE  on residue LYS 59\n",
      "core.conformation.Conformation: [ WARNING ] missing heavyatom:  NZ  on residue LYS 59\n",
      "core.conformation.Conformation: [ WARNING ] missing heavyatom:  CG  on residue GLU 70\n",
      "core.conformation.Conformation: [ WARNING ] missing heavyatom:  CD  on residue GLU 70\n",
      "core.conformation.Conformation: [ WARNING ] missing heavyatom:  OE1 on residue GLU 70\n",
      "core.conformation.Conformation: [ WARNING ] missing heavyatom:  OE2 on residue GLU 70\n",
      "core.conformation.Conformation: [ WARNING ] missing heavyatom:  OXT on residue LEU:CtermProteinFull 91\n",
      "core.pack.pack_missing_sidechains: packing residue number 13 because of missing atom number 6 atom name  CG\n",
      "core.pack.pack_missing_sidechains: packing residue number 15 because of missing atom number 6 atom name  CG\n",
      "core.pack.pack_missing_sidechains: packing residue number 25 because of missing atom number 6 atom name  OG\n",
      "core.pack.pack_missing_sidechains: packing residue number 28 because of missing atom number 6 atom name  CG\n",
      "core.pack.pack_missing_sidechains: packing residue number 29 because of missing atom number 6 atom name  CG\n",
      "core.pack.pack_missing_sidechains: packing residue number 32 because of missing atom number 6 atom name  CG\n",
      "core.pack.pack_missing_sidechains: packing residue number 34 because of missing atom number 6 atom name  CG\n",
      "core.pack.pack_missing_sidechains: packing residue number 43 because of missing atom number 6 atom name  CG\n",
      "core.pack.pack_missing_sidechains: packing residue number 44 because of missing atom number 6 atom name  CG\n",
      "core.pack.pack_missing_sidechains: packing residue number 52 because of missing atom number 6 atom name  CG\n",
      "core.pack.pack_missing_sidechains: packing residue number 59 because of missing atom number 6 atom name  CG\n",
      "core.pack.pack_missing_sidechains: packing residue number 70 because of missing atom number 6 atom name  CG\n",
      "core.pack.task: Packer task: initialize from command line()\n",
      "core.scoring.ScoreFunctionFactory: SCOREFUNCTION: ref2015\n",
      "core.scoring.etable: Starting energy table calculation\n",
      "core.scoring.etable: smooth_etable: changing atr/rep split to bottom of energy well\n",
      "core.scoring.etable: smooth_etable: spline smoothing lj etables (maxdis = 6)\n",
      "core.scoring.etable: smooth_etable: spline smoothing solvation etables (max_dis = 6)\n",
      "core.scoring.etable: Finished calculating energy tables.\n",
      "basic.io.database: Database file opened: scoring/score_functions/hbonds/ref2015_params/HBPoly1D.csv\n",
      "basic.io.database: Database file opened: scoring/score_functions/hbonds/ref2015_params/HBFadeIntervals.csv\n",
      "basic.io.database: Database file opened: scoring/score_functions/hbonds/ref2015_params/HBEval.csv\n",
      "basic.io.database: Database file opened: scoring/score_functions/hbonds/ref2015_params/DonStrength.csv\n",
      "basic.io.database: Database file opened: scoring/score_functions/hbonds/ref2015_params/AccStrength.csv\n",
      "basic.io.database: Database file opened: scoring/score_functions/rama/fd/all.ramaProb\n",
      "basic.io.database: Database file opened: scoring/score_functions/rama/fd/prepro.ramaProb\n",
      "basic.io.database: Database file opened: scoring/score_functions/omega/omega_ppdep.all.txt\n",
      "basic.io.database: Database file opened: scoring/score_functions/omega/omega_ppdep.gly.txt\n",
      "basic.io.database: Database file opened: scoring/score_functions/omega/omega_ppdep.pro.txt\n",
      "basic.io.database: Database file opened: scoring/score_functions/omega/omega_ppdep.valile.txt\n",
      "basic.io.database: Database file opened: scoring/score_functions/P_AA_pp/P_AA\n",
      "basic.io.database: Database file opened: scoring/score_functions/P_AA_pp/P_AA_n\n",
      "core.scoring.P_AA: shapovalov_lib::shap_p_aa_pp_smooth_level of 1( aka low_smooth ) got activated.\n",
      "basic.io.database: Database file opened: scoring/score_functions/P_AA_pp/shapovalov/10deg/kappa131/a20.prop\n",
      "basic.io.database: Database file opened: scoring/score_functions/elec_cp_reps.dat\n",
      "core.scoring.elec.util: Read 40 countpair representative atoms\n",
      "core.pack.dunbrack.RotamerLibrary: shapovalov_lib_fixes_enable option is true.\n",
      "core.pack.dunbrack.RotamerLibrary: shapovalov_lib::shap_dun10_smooth_level of 1( aka lowest_smooth ) got activated.\n",
      "core.pack.dunbrack.RotamerLibrary: Binary rotamer library selected: /Users/owenrogers/anaconda3/envs/pyrosetta/lib/python3.12/site-packages/pyrosetta/database/rotamer/shapovalov/StpDwn_0-0-0/Dunbrack10.lib.bin\n",
      "core.pack.dunbrack.RotamerLibrary: Using Dunbrack library binary file '/Users/owenrogers/anaconda3/envs/pyrosetta/lib/python3.12/site-packages/pyrosetta/database/rotamer/shapovalov/StpDwn_0-0-0/Dunbrack10.lib.bin'.\n",
      "core.pack.dunbrack.RotamerLibrary: Dunbrack 2010 library took 0.126619 seconds to load from binary\n",
      "core.pack.pack_rotamers: built 189 rotamers at 12 positions.\n",
      "core.pack.pack_rotamers: Requesting all available threads for interaction graph computation.\n",
      "core.pack.interaction_graph.interaction_graph_factory: Instantiating DensePDInteractionGraph\n",
      "basic.thread_manager.RosettaThreadManager: Creating a thread pool of 1 threads.\n",
      "basic.thread_manager.RosettaThreadPool: Launched 0 new threads.\n",
      "core.pack.rotamer_set.RotamerSets: Completed interaction graph pre-calculation in 1 available threads (1 had been requested).\n"
     ]
    }
   ],
   "execution_count": 7
  },
  {
   "metadata": {},
   "cell_type": "code",
   "outputs": [],
   "execution_count": null,
   "source": "",
   "id": "dc0c419871feef76"
  },
  {
   "metadata": {},
   "cell_type": "code",
   "outputs": [],
   "execution_count": null,
   "source": "",
   "id": "bf118f52e788ea62"
  },
  {
   "metadata": {},
   "cell_type": "code",
   "outputs": [],
   "execution_count": null,
   "source": "",
   "id": "337cc7260b268b00"
  },
  {
   "metadata": {},
   "cell_type": "code",
   "outputs": [],
   "execution_count": null,
   "source": "",
   "id": "526b741309067ffd"
  },
  {
   "metadata": {},
   "cell_type": "code",
   "outputs": [],
   "execution_count": null,
   "source": "",
   "id": "6d5ca601fa46d27a"
  },
  {
   "metadata": {},
   "cell_type": "code",
   "outputs": [],
   "execution_count": null,
   "source": "",
   "id": "bf7e5691d9543cb7"
  },
  {
   "metadata": {},
   "cell_type": "code",
   "outputs": [],
   "execution_count": null,
   "source": "",
   "id": "4ab2f88084ee68dc"
  },
  {
   "metadata": {},
   "cell_type": "code",
   "outputs": [],
   "execution_count": null,
   "source": "",
   "id": "bacb371355fbb96e"
  },
  {
   "metadata": {},
   "cell_type": "markdown",
   "source": [
    "### Quick visualization\n",
    "\n",
    "---"
   ],
   "id": "7c743e20043da383"
  },
  {
   "metadata": {},
   "cell_type": "code",
   "outputs": [],
   "execution_count": null,
   "source": "",
   "id": "bb9203043f66a9e0"
  },
  {
   "metadata": {},
   "cell_type": "code",
   "outputs": [],
   "execution_count": null,
   "source": "",
   "id": "8dce8359f3cb3c4b"
  },
  {
   "metadata": {},
   "cell_type": "code",
   "outputs": [],
   "execution_count": null,
   "source": "",
   "id": "7ef46e227f18b74e"
  },
  {
   "metadata": {},
   "cell_type": "code",
   "outputs": [],
   "execution_count": null,
   "source": "",
   "id": "e5c6cd9c323b517c"
  },
  {
   "metadata": {},
   "cell_type": "code",
   "outputs": [],
   "execution_count": null,
   "source": "",
   "id": "f2df882fcf345856"
  },
  {
   "metadata": {},
   "cell_type": "code",
   "outputs": [],
   "execution_count": null,
   "source": "",
   "id": "dc91a5472c66d149"
  },
  {
   "metadata": {},
   "cell_type": "code",
   "outputs": [],
   "execution_count": null,
   "source": "",
   "id": "4286ff779a0c9ea4"
  },
  {
   "metadata": {},
   "cell_type": "code",
   "outputs": [],
   "execution_count": null,
   "source": "",
   "id": "3f49df2eb286ac6e"
  },
  {
   "metadata": {},
   "cell_type": "markdown",
   "source": [
    "### Double mutants with MDR-FEP\n",
    "\n",
    "---"
   ],
   "id": "9515720d1076edb6"
  },
  {
   "metadata": {},
   "cell_type": "code",
   "outputs": [],
   "execution_count": null,
   "source": "",
   "id": "a9b7688fd39459a3"
  },
  {
   "metadata": {},
   "cell_type": "code",
   "outputs": [],
   "execution_count": null,
   "source": "",
   "id": "37e94b972ea33373"
  },
  {
   "metadata": {},
   "cell_type": "code",
   "outputs": [],
   "execution_count": null,
   "source": "",
   "id": "1aeb0f0896275886"
  },
  {
   "metadata": {},
   "cell_type": "code",
   "outputs": [],
   "execution_count": null,
   "source": "",
   "id": "31941b6a203c2618"
  },
  {
   "metadata": {},
   "cell_type": "code",
   "outputs": [],
   "execution_count": null,
   "source": "",
   "id": "a74620b5f61b2b9e"
  },
  {
   "metadata": {},
   "cell_type": "code",
   "outputs": [],
   "execution_count": null,
   "source": "",
   "id": "426a25c5b52b166f"
  },
  {
   "metadata": {},
   "cell_type": "code",
   "outputs": [],
   "execution_count": null,
   "source": "",
   "id": "d644a0a632d05248"
  },
  {
   "metadata": {},
   "cell_type": "code",
   "outputs": [],
   "execution_count": null,
   "source": "",
   "id": "871b350fbfe697a2"
  },
  {
   "metadata": {},
   "cell_type": "code",
   "outputs": [],
   "execution_count": null,
   "source": "",
   "id": "47c93164dd04d261"
  },
  {
   "metadata": {},
   "cell_type": "code",
   "outputs": [],
   "execution_count": null,
   "source": "",
   "id": "e0678548557e0093"
  },
  {
   "metadata": {},
   "cell_type": "code",
   "outputs": [],
   "execution_count": null,
   "source": "",
   "id": "9e041b8ed8632b36"
  },
  {
   "metadata": {},
   "cell_type": "code",
   "outputs": [],
   "execution_count": null,
   "source": "",
   "id": "87222d8b5bd72d60"
  },
  {
   "metadata": {},
   "cell_type": "code",
   "outputs": [],
   "execution_count": null,
   "source": "",
   "id": "8e416c8f6596c3f5"
  },
  {
   "metadata": {},
   "cell_type": "code",
   "outputs": [],
   "execution_count": null,
   "source": "",
   "id": "37cb4179a2eea03d"
  },
  {
   "metadata": {},
   "cell_type": "code",
   "outputs": [],
   "execution_count": null,
   "source": "",
   "id": "a0eb8a630752e105"
  },
  {
   "metadata": {},
   "cell_type": "code",
   "outputs": [],
   "execution_count": null,
   "source": "",
   "id": "8dfd27c9b75a1703"
  },
  {
   "metadata": {},
   "cell_type": "code",
   "outputs": [],
   "execution_count": null,
   "source": "",
   "id": "4a1d65fc3e996188"
  },
  {
   "metadata": {},
   "cell_type": "code",
   "outputs": [],
   "execution_count": null,
   "source": "",
   "id": "57900012bc60b28e"
  },
  {
   "metadata": {},
   "cell_type": "code",
   "outputs": [],
   "execution_count": null,
   "source": "",
   "id": "c775f674da2925dc"
  },
  {
   "metadata": {},
   "cell_type": "code",
   "outputs": [],
   "execution_count": null,
   "source": "",
   "id": "d2fca8e4a3e605b1"
  },
  {
   "metadata": {},
   "cell_type": "code",
   "outputs": [],
   "execution_count": null,
   "source": "",
   "id": "f7e366bdcb352098"
  },
  {
   "metadata": {},
   "cell_type": "code",
   "outputs": [],
   "execution_count": null,
   "source": "",
   "id": "18ee7a99eb01da2d"
  },
  {
   "metadata": {},
   "cell_type": "code",
   "outputs": [],
   "execution_count": null,
   "source": "",
   "id": "93dc22c46fe514e6"
  },
  {
   "metadata": {},
   "cell_type": "code",
   "outputs": [],
   "execution_count": null,
   "source": "",
   "id": "955b36c305f599bb"
  },
  {
   "metadata": {},
   "cell_type": "code",
   "outputs": [],
   "execution_count": null,
   "source": "",
   "id": "abf943ede422be2f"
  },
  {
   "metadata": {},
   "cell_type": "code",
   "outputs": [],
   "execution_count": null,
   "source": "",
   "id": "bad0f5a9964fc931"
  },
  {
   "metadata": {},
   "cell_type": "code",
   "outputs": [],
   "execution_count": null,
   "source": "",
   "id": "f11f5d17555ac21a"
  },
  {
   "metadata": {},
   "cell_type": "code",
   "outputs": [],
   "execution_count": null,
   "source": "",
   "id": "25b9b42b0a642848"
  },
  {
   "metadata": {},
   "cell_type": "markdown",
   "source": [
    "### Need to develop a new way to implement a dictionary for mutations (in the case that you don't want to do SSM).\n",
    "\n",
    "---"
   ],
   "id": "f60ba6fbd2091e01"
  },
  {
   "metadata": {
    "ExecuteTime": {
     "end_time": "2025-04-30T18:52:34.057139Z",
     "start_time": "2025-04-30T18:52:34.043779Z"
    }
   },
   "cell_type": "code",
   "source": [
    "# simple example\n",
    "\n",
    "position = '445'\n",
    "mutations = 'AC'"
   ],
   "id": "f2cbdd0e588181d8",
   "outputs": [],
   "execution_count": 17
  },
  {
   "metadata": {
    "ExecuteTime": {
     "end_time": "2025-04-30T18:52:49.184930Z",
     "start_time": "2025-04-30T18:52:49.175615Z"
    }
   },
   "cell_type": "code",
   "source": "mut_dict = {position: list(mutations)}",
   "id": "f4c650633bdb22ef",
   "outputs": [],
   "execution_count": 21
  },
  {
   "metadata": {
    "ExecuteTime": {
     "end_time": "2025-04-30T18:52:49.378276Z",
     "start_time": "2025-04-30T18:52:49.375158Z"
    }
   },
   "cell_type": "code",
   "source": "print(mut_dict)",
   "id": "9b62c19d784dd87d",
   "outputs": [
    {
     "name": "stdout",
     "output_type": "stream",
     "text": [
      "{'445': ['A', 'C']}\n"
     ]
    }
   ],
   "execution_count": 22
  },
  {
   "metadata": {
    "ExecuteTime": {
     "end_time": "2025-04-30T18:53:38.891157Z",
     "start_time": "2025-04-30T18:53:38.875092Z"
    }
   },
   "cell_type": "code",
   "source": [
    "# should pass in mutations in the form of [sequence position][mutations]\n",
    "\n",
    "mut1 = '1A'\n",
    "mut2 = '1C'"
   ],
   "id": "54f04cdc5695109a",
   "outputs": [],
   "execution_count": 23
  },
  {
   "metadata": {
    "ExecuteTime": {
     "end_time": "2025-04-30T18:53:54.010639Z",
     "start_time": "2025-04-30T18:53:54.002163Z"
    }
   },
   "cell_type": "code",
   "source": [
    "\"\"\"\n",
    "arguments I imagine\n",
    "\n",
    "--mutations 1A 1C 2D 4E\n",
    "\n",
    "\n",
    "\"\"\""
   ],
   "id": "9a68cfa6c989eb72",
   "outputs": [],
   "execution_count": 24
  },
  {
   "metadata": {
    "ExecuteTime": {
     "end_time": "2025-04-30T21:21:06.258956Z",
     "start_time": "2025-04-30T21:21:06.253259Z"
    }
   },
   "cell_type": "code",
   "source": "mutations = '1A 2A 3A 4A 5A 6A 7A 8A 9A 10A 1C 2C 3C 4C 5C 6C 7C 8C 9C'",
   "id": "3f895a837f7af000",
   "outputs": [],
   "execution_count": 9
  },
  {
   "metadata": {
    "ExecuteTime": {
     "end_time": "2025-04-30T21:21:06.683135Z",
     "start_time": "2025-04-30T21:21:06.680885Z"
    }
   },
   "cell_type": "code",
   "source": "print(type(mutations))",
   "id": "124951ebdd121145",
   "outputs": [
    {
     "name": "stdout",
     "output_type": "stream",
     "text": [
      "<class 'str'>\n"
     ]
    }
   ],
   "execution_count": 10
  },
  {
   "metadata": {
    "ExecuteTime": {
     "end_time": "2025-04-30T21:21:07.080513Z",
     "start_time": "2025-04-30T21:21:07.076317Z"
    }
   },
   "cell_type": "code",
   "source": [
    "mutations = mutations.split(' ')\n",
    "\n",
    "mut_dict = {}\n",
    "\n",
    "for mut in mutations:\n",
    "    seqpos = mut[:-1]\n",
    "    mutaa = mut[-1]\n",
    "\n",
    "    print(type(seqpos))\n",
    "    if seqpos not in mut_dict:\n",
    "        mut_dict[seqpos] = []\n",
    "    \n",
    "    mut_dict[seqpos].append(mutaa)\n",
    "    \n",
    "print(mut_dict)"
   ],
   "id": "f9ab21e7830c93e3",
   "outputs": [
    {
     "name": "stdout",
     "output_type": "stream",
     "text": [
      "<class 'str'>\n",
      "<class 'str'>\n",
      "<class 'str'>\n",
      "<class 'str'>\n",
      "<class 'str'>\n",
      "<class 'str'>\n",
      "<class 'str'>\n",
      "<class 'str'>\n",
      "<class 'str'>\n",
      "<class 'str'>\n",
      "<class 'str'>\n",
      "<class 'str'>\n",
      "<class 'str'>\n",
      "<class 'str'>\n",
      "<class 'str'>\n",
      "<class 'str'>\n",
      "<class 'str'>\n",
      "<class 'str'>\n",
      "<class 'str'>\n",
      "{'1': ['A', 'C'], '2': ['A', 'C'], '3': ['A', 'C'], '4': ['A', 'C'], '5': ['A', 'C'], '6': ['A', 'C'], '7': ['A', 'C'], '8': ['A', 'C'], '9': ['A', 'C'], '10': ['A']}\n"
     ]
    }
   ],
   "execution_count": 11
  },
  {
   "metadata": {
    "ExecuteTime": {
     "end_time": "2025-04-30T21:18:07.940968Z",
     "start_time": "2025-04-30T21:18:07.935533Z"
    }
   },
   "cell_type": "code",
   "source": "muts = ['1A', '1C']",
   "id": "5446a7d075827884",
   "outputs": [],
   "execution_count": 4
  },
  {
   "metadata": {
    "ExecuteTime": {
     "end_time": "2025-04-30T21:18:12.787784Z",
     "start_time": "2025-04-30T21:18:12.148417Z"
    }
   },
   "cell_type": "code",
   "source": "muts.split(' ')",
   "id": "20ac3e6670b48e3e",
   "outputs": [
    {
     "ename": "AttributeError",
     "evalue": "'list' object has no attribute 'split'",
     "output_type": "error",
     "traceback": [
      "\u001B[0;31m---------------------------------------------------------------------------\u001B[0m",
      "\u001B[0;31mAttributeError\u001B[0m                            Traceback (most recent call last)",
      "Cell \u001B[0;32mIn[5], line 1\u001B[0m\n\u001B[0;32m----> 1\u001B[0m muts\u001B[38;5;241m.\u001B[39msplit(\u001B[38;5;124m'\u001B[39m\u001B[38;5;124m \u001B[39m\u001B[38;5;124m'\u001B[39m)\n",
      "\u001B[0;31mAttributeError\u001B[0m: 'list' object has no attribute 'split'"
     ]
    }
   ],
   "execution_count": 5
  },
  {
   "metadata": {
    "ExecuteTime": {
     "end_time": "2025-04-30T21:19:08.185693Z",
     "start_time": "2025-04-30T21:19:08.178722Z"
    }
   },
   "cell_type": "code",
   "source": "print(isinstance(muts, list))",
   "id": "fe3cf7a853db1ddc",
   "outputs": [
    {
     "name": "stdout",
     "output_type": "stream",
     "text": [
      "True\n"
     ]
    }
   ],
   "execution_count": 6
  }
 ],
 "metadata": {
  "kernelspec": {
   "display_name": "Python 3",
   "language": "python",
   "name": "python3"
  },
  "language_info": {
   "codemirror_mode": {
    "name": "ipython",
    "version": 2
   },
   "file_extension": ".py",
   "mimetype": "text/x-python",
   "name": "python",
   "nbconvert_exporter": "python",
   "pygments_lexer": "ipython2",
   "version": "2.7.6"
  }
 },
 "nbformat": 4,
 "nbformat_minor": 5
}
