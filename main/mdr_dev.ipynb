{
 "cells": [
  {
   "metadata": {},
   "cell_type": "markdown",
   "source": [
    "# This notebook is for unit testing of mdr_dev.py code. Essentially a sandbox for re-writing the Rosetta code behind the R part of MDR-FEP\n",
    "\n",
    "---"
   ],
   "id": "6bd43c632b6640d3"
  },
  {
   "metadata": {
    "ExecuteTime": {
     "end_time": "2025-04-30T18:47:57.885604Z",
     "start_time": "2025-04-30T18:47:57.879675Z"
    }
   },
   "cell_type": "code",
   "source": "from dev_utils.mdr_dev import *",
   "id": "cfae92abf23c2d21",
   "outputs": [],
   "execution_count": 2
  },
  {
   "metadata": {},
   "cell_type": "markdown",
   "source": "### Need to develop a new way to implement a dictionary for mutations (in the case that you don't want to do SSM).",
   "id": "f60ba6fbd2091e01"
  },
  {
   "metadata": {
    "ExecuteTime": {
     "end_time": "2025-04-30T18:52:34.057139Z",
     "start_time": "2025-04-30T18:52:34.043779Z"
    }
   },
   "cell_type": "code",
   "source": [
    "# simple example\n",
    "\n",
    "position = '445'\n",
    "mutations = 'AC'"
   ],
   "id": "f2cbdd0e588181d8",
   "outputs": [],
   "execution_count": 17
  },
  {
   "metadata": {
    "ExecuteTime": {
     "end_time": "2025-04-30T18:52:49.184930Z",
     "start_time": "2025-04-30T18:52:49.175615Z"
    }
   },
   "cell_type": "code",
   "source": "mut_dict = {position: list(mutations)}",
   "id": "f4c650633bdb22ef",
   "outputs": [],
   "execution_count": 21
  },
  {
   "metadata": {
    "ExecuteTime": {
     "end_time": "2025-04-30T18:52:49.378276Z",
     "start_time": "2025-04-30T18:52:49.375158Z"
    }
   },
   "cell_type": "code",
   "source": "print(mut_dict)",
   "id": "9b62c19d784dd87d",
   "outputs": [
    {
     "name": "stdout",
     "output_type": "stream",
     "text": [
      "{'445': ['A', 'C']}\n"
     ]
    }
   ],
   "execution_count": 22
  },
  {
   "metadata": {
    "ExecuteTime": {
     "end_time": "2025-04-30T18:53:38.891157Z",
     "start_time": "2025-04-30T18:53:38.875092Z"
    }
   },
   "cell_type": "code",
   "source": [
    "# should pass in mutations in the form of [sequence position][mutations]\n",
    "\n",
    "mut1 = '1A'\n",
    "mut2 = '1C'"
   ],
   "id": "54f04cdc5695109a",
   "outputs": [],
   "execution_count": 23
  },
  {
   "metadata": {
    "ExecuteTime": {
     "end_time": "2025-04-30T18:53:54.010639Z",
     "start_time": "2025-04-30T18:53:54.002163Z"
    }
   },
   "cell_type": "code",
   "source": [
    "\"\"\"\n",
    "arguments I imagine\n",
    "\n",
    "--mutations 1A 1C 2D 4E\n",
    "\n",
    "\n",
    "\"\"\""
   ],
   "id": "9a68cfa6c989eb72",
   "outputs": [],
   "execution_count": 24
  },
  {
   "metadata": {
    "ExecuteTime": {
     "end_time": "2025-04-30T20:51:50.452473Z",
     "start_time": "2025-04-30T20:51:50.441665Z"
    }
   },
   "cell_type": "code",
   "source": "mutations = '1A 2A 3A 4A 5A 6A 7A 8A 9A 10A 1C 2C 3C 4C 5C 6C 7C 8C 9C'",
   "id": "3f895a837f7af000",
   "outputs": [],
   "execution_count": 131
  },
  {
   "metadata": {
    "ExecuteTime": {
     "end_time": "2025-04-30T20:51:50.970436Z",
     "start_time": "2025-04-30T20:51:50.967795Z"
    }
   },
   "cell_type": "code",
   "source": [
    "mutations = mutations.split(' ')\n",
    "\n",
    "mut_dict = {}\n",
    "\n",
    "for mut in mutations:\n",
    "    seqpos = mut[:-1]\n",
    "    mutaa = mut[-1]\n",
    "\n",
    "    if seqpos not in mut_dict:\n",
    "        mut_dict[seqpos] = []\n",
    "    \n",
    "    mut_dict[seqpos].append(mutaa)\n",
    "    \n",
    "print(mut_dict)"
   ],
   "id": "f9ab21e7830c93e3",
   "outputs": [
    {
     "name": "stdout",
     "output_type": "stream",
     "text": [
      "{'1': ['A', 'C'], '2': ['A', 'C'], '3': ['A', 'C'], '4': ['A', 'C'], '5': ['A', 'C'], '6': ['A', 'C'], '7': ['A', 'C'], '8': ['A', 'C'], '9': ['A', 'C'], '10': ['A']}\n"
     ]
    }
   ],
   "execution_count": 132
  },
  {
   "metadata": {},
   "cell_type": "code",
   "outputs": [],
   "execution_count": null,
   "source": "",
   "id": "5446a7d075827884"
  }
 ],
 "metadata": {
  "kernelspec": {
   "display_name": "Python 3",
   "language": "python",
   "name": "python3"
  },
  "language_info": {
   "codemirror_mode": {
    "name": "ipython",
    "version": 2
   },
   "file_extension": ".py",
   "mimetype": "text/x-python",
   "name": "python",
   "nbconvert_exporter": "python",
   "pygments_lexer": "ipython2",
   "version": "2.7.6"
  }
 },
 "nbformat": 4,
 "nbformat_minor": 5
}
